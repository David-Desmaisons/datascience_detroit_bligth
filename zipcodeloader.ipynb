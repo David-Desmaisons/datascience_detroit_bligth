{
 "cells": [
  {
   "cell_type": "code",
   "execution_count": 1,
   "metadata": {
    "collapsed": false
   },
   "outputs": [
    {
     "data": {
      "text/plain": [
       "{'AverageHouseValue': 93500.0,\n",
       " 'BlackPopulation': 9260.0,\n",
       " 'FemalePopulation': 6258.0,\n",
       " 'IncomePerHousehold': 12262.0,\n",
       " 'MalePopulation': 6556.0,\n",
       " 'MedianAge': 36.4,\n",
       " 'PersonsPerHouseholde': 1.66,\n",
       " 'Population': 12814.0,\n",
       " 'WhitePopulation': 2752.0}"
      ]
     },
     "execution_count": 1,
     "metadata": {},
     "output_type": "execute_result"
    }
   ],
   "source": [
    "from bs4 import BeautifulSoup\n",
    "import requests\n",
    "\n",
    "\n",
    "class ZipScrapper:\n",
    "    def __init__(self):\n",
    "        self._relevant = {\"Persons Per Householde:\", \"Average House Value:\", \"Income Per Household:\", \"Median Age:\",\n",
    "                          \"Population:\", \"White Population:\", \"Black Population:\", \"Female Population:\", \"Male Population:\"}\n",
    "        \n",
    "    @staticmethod\n",
    "    def stripcontent(element):\n",
    "        return element.contents[0].strip()\n",
    "\n",
    "    def parseZip(self, zipnumber):\n",
    "        r = requests.get(\"http://zipcode.org/{}\".format(zipnumber))\n",
    "        soup = BeautifulSoup(r.text, 'html.parser')\n",
    "        res = {}\n",
    "        for text in [f for f in soup.find_all(\"div\", class_='Zip_Code_HTML_Block_Label') if ZipScrapper.stripcontent(f) in self._relevant]:\n",
    "            key = ZipScrapper.stripcontent(text)\n",
    "            key = key.replace(\" \",\"\").replace(\":\",\"\")\n",
    "            value = ZipScrapper.stripcontent(text.find_next_siblings(class_='Zip_Code_HTML_Block_Text')[0])\n",
    "            value = value.replace(\"$\",\"\").replace(\",\",\"\")\n",
    "            res[key] = float(value)\n",
    "        return res\n",
    "            \n",
    "            \n",
    "z = ZipScrapper()\n",
    "z.parseZip(48201)"
   ]
  },
  {
   "cell_type": "code",
   "execution_count": 1,
   "metadata": {
    "collapsed": false
   },
   "outputs": [
    {
     "name": "stdout",
     "output_type": "stream",
     "text": [
      "{'IncomePerHousehold': 12262.0, 'FemalePopulation': 6258.0, 'WhitePopulation': 2752.0, 'MalePopulation': 6556.0, 'Population': 12814.0, 'PersonsPerHouseholde': 1.66, 'BlackPopulation': 9260.0, 'MedianAge': 36.4, 'AverageHouseValue': 93500.0, 'zipcode': 48201}\n",
      "{'IncomePerHousehold': 20708.0, 'FemalePopulation': 8457.0, 'WhitePopulation': 2270.0, 'MalePopulation': 8146.0, 'Population': 16603.0, 'PersonsPerHouseholde': 2.04, 'BlackPopulation': 13955.0, 'MedianAge': 35.3, 'AverageHouseValue': 67700.0, 'zipcode': 48202}\n",
      "{'IncomePerHousehold': 24438.0, 'FemalePopulation': 11572.0, 'WhitePopulation': 688.0, 'MalePopulation': 10382.0, 'Population': 21954.0, 'PersonsPerHouseholde': 2.43, 'BlackPopulation': 21264.0, 'MedianAge': 38.0, 'AverageHouseValue': 53700.0, 'zipcode': 48206}\n",
      "{'IncomePerHousehold': 24496.0, 'FemalePopulation': 11098.0, 'WhitePopulation': 1715.0, 'MalePopulation': 9154.0, 'Population': 20252.0, 'PersonsPerHouseholde': 1.85, 'BlackPopulation': 18437.0, 'MedianAge': 43.4, 'AverageHouseValue': 47500.0, 'zipcode': 48207}\n",
      "{'IncomePerHousehold': 17680.0, 'FemalePopulation': 5164.0, 'WhitePopulation': 1313.0, 'MalePopulation': 5070.0, 'Population': 10234.0, 'PersonsPerHouseholde': 2.18, 'BlackPopulation': 8780.0, 'MedianAge': 35.9, 'AverageHouseValue': 36200.0, 'zipcode': 48208}\n",
      "{'IncomePerHousehold': 25546.0, 'FemalePopulation': 15580.0, 'WhitePopulation': 17800.0, 'MalePopulation': 16682.0, 'Population': 32262.0, 'PersonsPerHouseholde': 3.28, 'BlackPopulation': 3630.0, 'MedianAge': 27.8, 'AverageHouseValue': 33100.0, 'zipcode': 48209}\n",
      "{'IncomePerHousehold': 24633.0, 'FemalePopulation': 14514.0, 'WhitePopulation': 729.0, 'MalePopulation': 13198.0, 'Population': 27712.0, 'PersonsPerHouseholde': 2.79, 'BlackPopulation': 27005.0, 'MedianAge': 34.8, 'AverageHouseValue': 44100.0, 'zipcode': 48213}\n",
      "{'IncomePerHousehold': 21600.0, 'FemalePopulation': 12307.0, 'WhitePopulation': 1529.0, 'MalePopulation': 10452.0, 'Population': 22759.0, 'PersonsPerHouseholde': 2.14, 'BlackPopulation': 21187.0, 'MedianAge': 43.8, 'AverageHouseValue': 34200.0, 'zipcode': 48214}\n",
      "{'IncomePerHousehold': 25020.0, 'FemalePopulation': 7235.0, 'WhitePopulation': 868.0, 'MalePopulation': 6330.0, 'Population': 13565.0, 'PersonsPerHouseholde': 2.5, 'BlackPopulation': 12705.0, 'MedianAge': 37.5, 'AverageHouseValue': 47100.0, 'zipcode': 48215}\n",
      "{'IncomePerHousehold': 28161.0, 'FemalePopulation': 4346.0, 'WhitePopulation': 1036.0, 'MalePopulation': 3864.0, 'Population': 8210.0, 'PersonsPerHouseholde': 2.55, 'BlackPopulation': 6741.0, 'MedianAge': 39.3, 'AverageHouseValue': 46300.0, 'zipcode': 48217}\n",
      "{'IncomePerHousehold': 39300.0, 'FemalePopulation': 25319.0, 'WhitePopulation': 3687.0, 'MalePopulation': 21612.0, 'Population': 46931.0, 'PersonsPerHouseholde': 2.53, 'BlackPopulation': 43256.0, 'MedianAge': 36.7, 'AverageHouseValue': 77800.0, 'zipcode': 48219}\n",
      "{'IncomePerHousehold': 0.0, 'FemalePopulation': 0.0, 'WhitePopulation': 0.0, 'MalePopulation': 0.0, 'Population': 0.0, 'PersonsPerHouseholde': 0.0, 'BlackPopulation': 0.0, 'MedianAge': 0.0, 'AverageHouseValue': 0.0, 'zipcode': 48222}\n",
      "{'IncomePerHousehold': 35731.0, 'FemalePopulation': 13623.0, 'WhitePopulation': 2376.0, 'MalePopulation': 11713.0, 'Population': 25336.0, 'PersonsPerHouseholde': 2.62, 'BlackPopulation': 23064.0, 'MedianAge': 34.2, 'AverageHouseValue': 83100.0, 'zipcode': 48223}\n",
      "{'IncomePerHousehold': 40960.0, 'FemalePopulation': 23841.0, 'WhitePopulation': 3989.0, 'MalePopulation': 20598.0, 'Population': 44439.0, 'PersonsPerHouseholde': 2.92, 'BlackPopulation': 40545.0, 'MedianAge': 31.2, 'AverageHouseValue': 78800.0, 'zipcode': 48224}\n",
      "{'IncomePerHousehold': 25449.0, 'FemalePopulation': 15137.0, 'WhitePopulation': 594.0, 'MalePopulation': 12860.0, 'Population': 27997.0, 'PersonsPerHouseholde': 2.5, 'BlackPopulation': 27441.0, 'MedianAge': 37.7, 'AverageHouseValue': 46200.0, 'zipcode': 48204}\n",
      "{'IncomePerHousehold': 31367.0, 'FemalePopulation': 23362.0, 'WhitePopulation': 2483.0, 'MalePopulation': 20683.0, 'Population': 44045.0, 'PersonsPerHouseholde': 3.1, 'BlackPopulation': 41002.0, 'MedianAge': 28.5, 'AverageHouseValue': 62400.0, 'zipcode': 48205}\n",
      "{'IncomePerHousehold': 24256.0, 'FemalePopulation': 15315.0, 'WhitePopulation': 14415.0, 'MalePopulation': 15702.0, 'Population': 31017.0, 'PersonsPerHouseholde': 3.33, 'BlackPopulation': 9332.0, 'MedianAge': 27.5, 'AverageHouseValue': 34000.0, 'zipcode': 48210}\n",
      "{'IncomePerHousehold': 21044.0, 'FemalePopulation': 3279.0, 'WhitePopulation': 2230.0, 'MalePopulation': 3803.0, 'Population': 7082.0, 'PersonsPerHouseholde': 2.79, 'BlackPopulation': 4680.0, 'MedianAge': 31.8, 'AverageHouseValue': 27800.0, 'zipcode': 48211}\n",
      "{'IncomePerHousehold': 24079.0, 'FemalePopulation': 2763.0, 'WhitePopulation': 2322.0, 'MalePopulation': 2882.0, 'Population': 5645.0, 'PersonsPerHouseholde': 2.32, 'BlackPopulation': 2498.0, 'MedianAge': 34.7, 'AverageHouseValue': 47100.0, 'zipcode': 48216}\n",
      "{'IncomePerHousehold': 42263.0, 'FemalePopulation': 21522.0, 'WhitePopulation': 1792.0, 'MalePopulation': 17205.0, 'Population': 38727.0, 'PersonsPerHouseholde': 2.56, 'BlackPopulation': 36828.0, 'MedianAge': 39.9, 'AverageHouseValue': 89200.0, 'zipcode': 48221}\n",
      "{'IncomePerHousehold': 29770.0, 'FemalePopulation': 2264.0, 'WhitePopulation': 1639.0, 'MalePopulation': 3038.0, 'Population': 5302.0, 'PersonsPerHouseholde': 1.38, 'BlackPopulation': 3427.0, 'MedianAge': 41.8, 'AverageHouseValue': 117500.0, 'zipcode': 48226}\n",
      "{'IncomePerHousehold': 31760.0, 'FemalePopulation': 24161.0, 'WhitePopulation': 1103.0, 'MalePopulation': 21219.0, 'Population': 45380.0, 'PersonsPerHouseholde': 2.71, 'BlackPopulation': 44372.0, 'MedianAge': 35.6, 'AverageHouseValue': 64400.0, 'zipcode': 48227}\n",
      "{'IncomePerHousehold': 31787.0, 'FemalePopulation': 27590.0, 'WhitePopulation': 9733.0, 'MalePopulation': 24540.0, 'Population': 52130.0, 'PersonsPerHouseholde': 2.8, 'BlackPopulation': 41770.0, 'MedianAge': 31.3, 'AverageHouseValue': 65500.0, 'zipcode': 48228}\n",
      "{'IncomePerHousehold': 0.0, 'FemalePopulation': 0.0, 'WhitePopulation': 0.0, 'MalePopulation': 0.0, 'Population': 0.0, 'PersonsPerHouseholde': 0.0, 'BlackPopulation': 0.0, 'MedianAge': 0.0, 'AverageHouseValue': 0.0, 'zipcode': 48231}\n",
      "{'IncomePerHousehold': 25619.0, 'FemalePopulation': 17023.0, 'WhitePopulation': 574.0, 'MalePopulation': 14720.0, 'Population': 31743.0, 'PersonsPerHouseholde': 2.5, 'BlackPopulation': 31289.0, 'MedianAge': 37.3, 'AverageHouseValue': 51100.0, 'zipcode': 48238}\n",
      "{'IncomePerHousehold': 0.0, 'FemalePopulation': 0.0, 'WhitePopulation': 0.0, 'MalePopulation': 0.0, 'Population': 0.0, 'PersonsPerHouseholde': 0.0, 'BlackPopulation': 0.0, 'MedianAge': 0.0, 'AverageHouseValue': 0.0, 'zipcode': 48243}\n",
      "{'IncomePerHousehold': 0.0, 'FemalePopulation': 0.0, 'WhitePopulation': 0.0, 'MalePopulation': 0.0, 'Population': 0.0, 'PersonsPerHouseholde': 0.0, 'BlackPopulation': 0.0, 'MedianAge': 0.0, 'AverageHouseValue': 0.0, 'zipcode': 48244}\n",
      "{'IncomePerHousehold': 0.0, 'FemalePopulation': 0.0, 'WhitePopulation': 0.0, 'MalePopulation': 0.0, 'Population': 0.0, 'PersonsPerHouseholde': 0.0, 'BlackPopulation': 0.0, 'MedianAge': 0.0, 'AverageHouseValue': 0.0, 'zipcode': 48255}\n",
      "{'IncomePerHousehold': 0.0, 'FemalePopulation': 0.0, 'WhitePopulation': 0.0, 'MalePopulation': 0.0, 'Population': 0.0, 'PersonsPerHouseholde': 0.0, 'BlackPopulation': 0.0, 'MedianAge': 0.0, 'AverageHouseValue': 0.0, 'zipcode': 48265}\n",
      "{'IncomePerHousehold': 0.0, 'FemalePopulation': 0.0, 'WhitePopulation': 0.0, 'MalePopulation': 0.0, 'Population': 0.0, 'PersonsPerHouseholde': 0.0, 'BlackPopulation': 0.0, 'MedianAge': 0.0, 'AverageHouseValue': 0.0, 'zipcode': 48266}\n",
      "{'IncomePerHousehold': 0.0, 'FemalePopulation': 0.0, 'WhitePopulation': 0.0, 'MalePopulation': 0.0, 'Population': 0.0, 'PersonsPerHouseholde': 0.0, 'BlackPopulation': 0.0, 'MedianAge': 0.0, 'AverageHouseValue': 0.0, 'zipcode': 48269}\n",
      "{'IncomePerHousehold': 0.0, 'FemalePopulation': 0.0, 'WhitePopulation': 0.0, 'MalePopulation': 0.0, 'Population': 0.0, 'PersonsPerHouseholde': 0.0, 'BlackPopulation': 0.0, 'MedianAge': 0.0, 'AverageHouseValue': 0.0, 'zipcode': 48272}\n",
      "{'IncomePerHousehold': 0.0, 'FemalePopulation': 0.0, 'WhitePopulation': 0.0, 'MalePopulation': 0.0, 'Population': 0.0, 'PersonsPerHouseholde': 0.0, 'BlackPopulation': 0.0, 'MedianAge': 0.0, 'AverageHouseValue': 0.0, 'zipcode': 48275}\n",
      "{'IncomePerHousehold': 0.0, 'FemalePopulation': 0.0, 'WhitePopulation': 0.0, 'MalePopulation': 0.0, 'Population': 0.0, 'PersonsPerHouseholde': 0.0, 'BlackPopulation': 0.0, 'MedianAge': 0.0, 'AverageHouseValue': 0.0, 'zipcode': 48277}\n",
      "{'IncomePerHousehold': 0.0, 'FemalePopulation': 0.0, 'WhitePopulation': 0.0, 'MalePopulation': 0.0, 'Population': 0.0, 'PersonsPerHouseholde': 0.0, 'BlackPopulation': 0.0, 'MedianAge': 0.0, 'AverageHouseValue': 0.0, 'zipcode': 48232}\n",
      "{'IncomePerHousehold': 0.0, 'FemalePopulation': 0.0, 'WhitePopulation': 0.0, 'MalePopulation': 0.0, 'Population': 0.0, 'PersonsPerHouseholde': 0.0, 'BlackPopulation': 0.0, 'MedianAge': 0.0, 'AverageHouseValue': 0.0, 'zipcode': 48233}\n",
      "{'IncomePerHousehold': 33352.0, 'FemalePopulation': 19359.0, 'WhitePopulation': 1584.0, 'MalePopulation': 16781.0, 'Population': 36140.0, 'PersonsPerHouseholde': 2.7, 'BlackPopulation': 34548.0, 'MedianAge': 34.2, 'AverageHouseValue': 55700.0, 'zipcode': 48234}\n",
      "{'IncomePerHousehold': 40041.0, 'FemalePopulation': 24861.0, 'WhitePopulation': 821.0, 'MalePopulation': 20202.0, 'Population': 45063.0, 'PersonsPerHouseholde': 2.52, 'BlackPopulation': 44292.0, 'MedianAge': 39.5, 'AverageHouseValue': 78100.0, 'zipcode': 48235}\n",
      "{'IncomePerHousehold': 0.0, 'FemalePopulation': 0.0, 'WhitePopulation': 0.0, 'MalePopulation': 0.0, 'Population': 0.0, 'PersonsPerHouseholde': 0.0, 'BlackPopulation': 0.0, 'MedianAge': 0.0, 'AverageHouseValue': 0.0, 'zipcode': 48242}\n",
      "{'IncomePerHousehold': 0.0, 'FemalePopulation': 0.0, 'WhitePopulation': 0.0, 'MalePopulation': 0.0, 'Population': 0.0, 'PersonsPerHouseholde': 0.0, 'BlackPopulation': 0.0, 'MedianAge': 0.0, 'AverageHouseValue': 0.0, 'zipcode': 48260}\n",
      "{'IncomePerHousehold': 0.0, 'FemalePopulation': 0.0, 'WhitePopulation': 0.0, 'MalePopulation': 0.0, 'Population': 0.0, 'PersonsPerHouseholde': 0.0, 'BlackPopulation': 0.0, 'MedianAge': 0.0, 'AverageHouseValue': 0.0, 'zipcode': 48264}\n",
      "{'IncomePerHousehold': 0.0, 'FemalePopulation': 0.0, 'WhitePopulation': 0.0, 'MalePopulation': 0.0, 'Population': 0.0, 'PersonsPerHouseholde': 0.0, 'BlackPopulation': 0.0, 'MedianAge': 0.0, 'AverageHouseValue': 0.0, 'zipcode': 48267}\n",
      "{'IncomePerHousehold': 0.0, 'FemalePopulation': 0.0, 'WhitePopulation': 0.0, 'MalePopulation': 0.0, 'Population': 0.0, 'PersonsPerHouseholde': 0.0, 'BlackPopulation': 0.0, 'MedianAge': 0.0, 'AverageHouseValue': 0.0, 'zipcode': 48268}\n",
      "{'IncomePerHousehold': 0.0, 'FemalePopulation': 0.0, 'WhitePopulation': 0.0, 'MalePopulation': 0.0, 'Population': 0.0, 'PersonsPerHouseholde': 0.0, 'BlackPopulation': 0.0, 'MedianAge': 0.0, 'AverageHouseValue': 0.0, 'zipcode': 48278}\n",
      "{'IncomePerHousehold': 0.0, 'FemalePopulation': 0.0, 'WhitePopulation': 0.0, 'MalePopulation': 0.0, 'Population': 0.0, 'PersonsPerHouseholde': 0.0, 'BlackPopulation': 0.0, 'MedianAge': 0.0, 'AverageHouseValue': 0.0, 'zipcode': 48279}\n",
      "{'IncomePerHousehold': 0.0, 'FemalePopulation': 0.0, 'WhitePopulation': 0.0, 'MalePopulation': 0.0, 'Population': 0.0, 'PersonsPerHouseholde': 0.0, 'BlackPopulation': 0.0, 'MedianAge': 0.0, 'AverageHouseValue': 0.0, 'zipcode': 48288}\n"
     ]
    }
   ],
   "source": [
    "from Zipscrapper import *\n",
    "import sqlite3\n",
    "\n",
    "detroitzip =[48201 ,48202 ,48206 ,48207 ,48208 ,48209 ,48213 ,48214 ,48215 ,48217 ,48219 ,48222 ,48223 ,\n",
    "             48224 ,48204 ,48205 ,48210 ,48211 ,48216 ,48221 ,48226 ,48227 ,48228 ,48231 ,48238 ,48243 ,\n",
    "             48244 ,48255 ,48265 ,48266 ,48269 ,48272 ,48275 ,48277 ,48232 ,48233 ,48234 ,48235 ,48242 ,\n",
    "             48260 ,48264 ,48267 ,48268 ,48278 ,48279 ,48288]\n",
    "\n",
    "query = \"insert into zipdata (zipcode, PersonsPerHouseholde, AverageHouseValue, IncomePerHousehold, MedianAge, Population, WhitePopulation, BlackPopulation, MalePopulation, FemalePopulation) values (:zipcode, :PersonsPerHouseholde, :AverageHouseValue, :IncomePerHousehold, :MedianAge, :Population, :WhitePopulation, :BlackPopulation, :MalePopulation, :FemalePopulation)\"\n",
    "\n",
    "    \n",
    "    \n",
    "    \n",
    "z = ZipScrapper()\n",
    "con = sqlite3.connect(\"./data/location.s3db\")\n",
    "cur = con.cursor()\n",
    "    \n",
    "for zi in detroitzip:\n",
    "    info = z.parseZip(zi)\n",
    "    info['zipcode'] = zi\n",
    "    print(info)\n",
    "    cur.execute(query, info)\n",
    "    con.commit()\n",
    "con.close()"
   ]
  },
  {
   "cell_type": "code",
   "execution_count": null,
   "metadata": {
    "collapsed": true
   },
   "outputs": [],
   "source": []
  }
 ],
 "metadata": {
  "kernelspec": {
   "display_name": "Python 3",
   "language": "python",
   "name": "python3"
  },
  "language_info": {
   "codemirror_mode": {
    "name": "ipython",
    "version": 3
   },
   "file_extension": ".py",
   "mimetype": "text/x-python",
   "name": "python",
   "nbconvert_exporter": "python",
   "pygments_lexer": "ipython3",
   "version": "3.5.1"
  }
 },
 "nbformat": 4,
 "nbformat_minor": 0
}
