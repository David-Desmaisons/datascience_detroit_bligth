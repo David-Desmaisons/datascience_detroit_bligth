{
 "cells": [
  {
   "cell_type": "code",
   "execution_count": 19,
   "metadata": {
    "collapsed": false
   },
   "outputs": [],
   "source": [
    "import sqlite3\n",
    "from geopy.distance import great_circle\n",
    "count =0\n",
    "\n",
    "def Distance(lat1, long1, lat2, long2):\n",
    "    global count\n",
    "    count+=1\n",
    "    if count%1000000==1:\n",
    "        print('.')        \n",
    "    loc1 = (lat1, long1)\n",
    "    loc2 = (lat2, long2)\n",
    "    return great_circle(loc1, loc2).kilometers\n",
    "\n",
    "#res = Distance(42.363182, -83.091677, 42.429391, -83.220394)\n",
    "#res\n"
   ]
  },
  {
   "cell_type": "code",
   "execution_count": 13,
   "metadata": {
    "collapsed": false
   },
   "outputs": [
    {
     "name": "stdout",
     "output_type": "stream",
     "text": [
      "0.0\n"
     ]
    }
   ],
   "source": [
    "con = sqlite3.connect('./data/location.s3db')\n",
    "con.create_function(\"Distance\", 4, Distance)\n",
    "cur = con.cursor()\n",
    "cur.execute(\"select Distance(42, -83, 42, -83)\")\n",
    "print(cur.fetchone()[0])\n",
    "con.close()"
   ]
  },
  {
   "cell_type": "code",
   "execution_count": null,
   "metadata": {
    "collapsed": true
   },
   "outputs": [],
   "source": [
    "query = \"CREATE TABLE CloseDistance as select f.Id as Id1, s.Id as Id2, Distance(f.Latitude, f.Longitude, s.Latitude, s.Longitude) as Dist from LocationReferenced as f join LocationReferenced as s on (f.Id < s.Id and f.IsMaster=1 and s.IsMaster=1) where Dist<1;\"\n",
    "con = sqlite3.connect('./data/location.s3db')\n",
    "con.create_function(\"Distance\", 4, Distance)\n",
    "cur = con.cursor()\n",
    "cur.execute(query)\n",
    "con\n",
    "con.close()"
   ]
  }
 ],
 "metadata": {
  "kernelspec": {
   "display_name": "Python 3",
   "language": "python",
   "name": "python3"
  },
  "language_info": {
   "codemirror_mode": {
    "name": "ipython",
    "version": 3
   },
   "file_extension": ".py",
   "mimetype": "text/x-python",
   "name": "python",
   "nbconvert_exporter": "python",
   "pygments_lexer": "ipython3",
   "version": "3.5.1"
  }
 },
 "nbformat": 4,
 "nbformat_minor": 0
}
