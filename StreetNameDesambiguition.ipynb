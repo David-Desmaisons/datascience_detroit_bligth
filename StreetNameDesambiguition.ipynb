{
 "cells": [
  {
   "cell_type": "code",
   "execution_count": 1,
   "metadata": {
    "collapsed": false
   },
   "outputs": [
    {
     "name": "stdout",
     "output_type": "stream",
     "text": [
      "100.0 7 Mile Road\n",
      "7 Mile Road\n",
      "57.5 32nd Street\n",
      "None\n",
      "75.0 3rd Avenue/Street\n",
      "None\n",
      "100.0 Mt. Elliott Avenue\n",
      "Mt. Elliott Avenue\n",
      "100.0 7 Mile Road\n",
      "7 Mile Road\n",
      "100.0 Annabelle Street\n",
      "Annabelle Street\n",
      "95.0 Lillbridge Avenue\n",
      "Lillbridge Avenue\n",
      "94.5 Rolandale\n",
      "Rolandale\n",
      "100.0 Waveney Avenue\n",
      "Waveney Avenue\n",
      "91.5 West Parkway\n",
      "West Parkway\n",
      "82.0 Eastwood Avenue\n",
      "None\n",
      "100.0 Ashton Avenue/Road\n",
      "Ashton Avenue/Road\n",
      "100.0 Grand Boulevard\n",
      "Grand Boulevard\n",
      "85.5 Rosa Parks Boulevard\n",
      "None\n"
     ]
    }
   ],
   "source": [
    "from fuzzywuzzy import process\n",
    "import re\n",
    "from collections import deque\n",
    "import itertools\n",
    "from fuzzywuzzy import fuzz\n",
    "\n",
    "def registerStreets(streets):\n",
    "    streets[\"11th Street\"].append(\"Eleventh Street\")\n",
    "    streets[\"2nd Avenue/Street\"].append(\"Second Avenue/Street\")\n",
    "    streets[\"12th Street\"].append(\"Twelfth Street\")\n",
    "    streets[\"8th Street\"].append(\"Eight Street\")\n",
    "    streets[\"6th Street\"].append(\"Sixth Street\")\n",
    "    streets[\"5th Street\"].append(\"fifth Street\")\n",
    "    streets[\"3rd Avenue/Street\"].append(\"Third Avenue/Street\")\n",
    "    streets[\"4th Avenue/Street\"].append(\"Fourth Avenue/Street\")\n",
    "    streets[\"1st Street\"].append(\"First Street\")\n",
    "    streets[\"10th Street\"].append(\"Tenth Street\")\n",
    "    \n",
    "with  open('./data/Detroitstreet.txt', 'r') as f:\n",
    "    allstreets =[t[:-1].strip() for t in f.readlines()]\n",
    "    streets = {x: [x] for x in allstreets}\n",
    "    registerStreets(streets)\n",
    "    for key in list(streets.keys()):\n",
    "        stripname = key.replace(' Avenue/Road','').replace(' Avenue/Street','').replace(' Street','').replace(' Avenue','').replace(' Road','').replace(' Drive','')\n",
    "        if (not stripname == key) and len(stripname)>2:\n",
    "            streets[key].append(stripname)\n",
    "    \n",
    "def getscore(d, n, s):\n",
    "    maxscore = 0\n",
    "    for syn in d[s]:\n",
    "        newscore =fuzz.token_set_ratio(n, syn)\n",
    "        if newscore> maxscore:\n",
    "            maxscore = newscore\n",
    "    return maxscore\n",
    "\n",
    "regex = re.compile('^([0-9]+)[ -](.+)$')\n",
    "\n",
    "def ChangeIfneeded(n):\n",
    "    global regex\n",
    "    m = regex.match(n)\n",
    "    return m.group(2)  if m is not None else n\n",
    "    \n",
    "    \n",
    "def CheckNameold(n1, n2, s1, s2, d, rate=90):\n",
    "    n1 = ChangeIfneeded(n1).replace(' BLVD',(' Boulevard'))\n",
    "    n2 = ChangeIfneeded(n2).replace(' BLVD',(' Boulevard'))\n",
    "    rate1 = getscore(d, n1, s1)\n",
    "    rate2 = getscore(d, n2, s2)\n",
    "    cruz1 = getscore(d, n2, s1)\n",
    "    cruz2 = getscore(d, n1, s2)\n",
    "    gl1 = rate1 + cruz1\n",
    "    gl2 = rate2 + cruz2\n",
    "    cand, score = (s1,gl1) if gl1>= gl2 else (s2, gl2)\n",
    "    return cand if (score>=rate*2) else None\n",
    "\n",
    "def CheckName(n1, n2, s1, s2, d, rate=90):\n",
    "    return CheckNames((n1, n2), (s1, s2), d, rate)\n",
    "\n",
    "\n",
    "def CheckNames(rawnames, tokens, d, rate=90):\n",
    "    filterrawname =[]\n",
    "    for rawname in rawnames:\n",
    "        filterrawname.append(ChangeIfneeded(rawname).replace(' BLVD',(' Boulevard')))\n",
    "        \n",
    "    maxrate=0\n",
    "    elementnumber = len(rawnames)\n",
    "    limiterate = rate * elementnumber\n",
    "    currtoken= None\n",
    "    for token in tokens:\n",
    "        currate =0\n",
    "        for rawname in filterrawname:\n",
    "            currate += getscore(d, rawname, token)\n",
    "        if currate>=maxrate:\n",
    "            maxrate = currate\n",
    "            currtoken = token\n",
    "    print(maxrate/elementnumber, currtoken)\n",
    "    return currtoken if maxrate>= limiterate else None\n",
    "\n",
    "\n",
    "\n",
    "\n",
    "print(CheckName('MILE','W. 7 MILE', '3 Mile Drive', '7 Mile Road', streets))\n",
    "print(CheckName('32ND','32 MT', '32nd Street', 'Mt. Olivet', streets))\n",
    "print(CheckName('THIRD','THIRD / HAZELWOOD', 'Hazelwood Avenue', '3rd Avenue/Street', streets))\n",
    "print(CheckName('MT ELLIOTT/ 7 MILE','7 MILE AND MT. ELLIOTT', 'Mt. Elliott Avenue', '7 Mile Road', streets))\n",
    "print(CheckName('W 7 MILE RD','W 7 MILE / KENTFIELD', '7 Mile Road', 'Field Avenue', streets))\n",
    "print(CheckName('ANNABELLE','S. ANNABELLE # 1214', 'Annabelle Street', 'Ann Street', streets))\n",
    "print(CheckName('LILLIBRIDGE','LILLIBRIDGE', 'Ridge Street', 'Lillbridge Avenue', streets))\n",
    "print(CheckName(\"18911 Rolandale\",\"18900 ROLENDALE\",\"Rolandale\",\"Dale Avenue\", streets))\n",
    "print(CheckName(\"00 AUBUDON AND WAVENEY\",\"Waveney\",\"Waveney Avenue\",\"Audubon Avenue\", streets))\n",
    "print(CheckName(\"7485 West Parkway\",\"7485 W Parkway St\",\"West Parkway\",\"Park Street\", streets))\n",
    "print(CheckName(\"15114 EASTWOOD\",\"00 HAYES EASTWWOD\",\"Hayes Avenue\",\"Eastwood Avenue\", streets))\n",
    "print(CheckName(\"6131 ASHTON\",\"00 ASHTON / DAYTON\",\"Ashton Avenue/Road\",\"Ash Street\", streets))\n",
    "print(CheckName(\"00 W.GRAND BLVD/GRANDRIVER\",\"00 GRAND RIVER / W GRAND BLVD\",\"Grand Boulevard\",\"Grand River\", streets))\n",
    "print(CheckName(\"3521 ROSA PARKS BLVD\",\"03500 ROSA PARKS APT 202\",\"Rosa Parks Boulevard\",\"Park Street\", streets))"
   ]
  },
  {
   "cell_type": "code",
   "execution_count": 42,
   "metadata": {
    "collapsed": false
   },
   "outputs": [
    {
     "name": "stdout",
     "output_type": "stream",
     "text": [
      "380541 00 LINCOLN PARK PD Lincoln Avenue\n",
      "422883 01400 CLEOPHUS C Street\n",
      "723\n",
      "Changed South Street 08400 SOUTH ,  8421 ST 8789 443809\n",
      "Changed South Street 08200 SOUTH STREET ,  8268 ST 8790 331737\n",
      "Changed South Street 08000 SOUTH ST. ,  8105 ST 8792 371456\n",
      "Changed Hammond Street 04600 HAMMOND ,  04600 HANNAND 361721 427645\n",
      "Changed Michigan Avenue 5622 MICHIGAN ,  5671 Chopin 70654 326494\n",
      "Changed 2nd Avenue/Street 00 SECOND/W WILLIS ,  4202 SECOND 31826 440299\n",
      "Changed Beaubien Street 1501-1699 Beaubien Street 48226, ,  454-498 Madison Street 48226, 314844 315933\n",
      "Changed Greenway Avenue 1820 Mack Avenue 48207, ,  Dequindre Cut Greenway Trail 48207, 310582 314755\n",
      "Changed Meyers Road 00 MEYER / SCHOOLCRAFT ,  13654 MEYERS 11589 430294\n",
      "Changed Marlowe Street 00 MARLOW/ CLARITA ,  18716 MARLOWE 57946 412396\n",
      "Changed Sussex Street 00 CAMBRIDGE / SUSEX ,  19300 SUSSEX 353936 358822\n",
      "Changed Glendale Avenue 00 GELNDALE AND LASALLE ,  12800 GLENDALE 334870 426000\n",
      "Changed Whittier Road 00 WHITTER AND NOTTINGHAM ,  10421 WHITTIER 11724 342033\n",
      "Changed Morang Avenue 00 ROXBURY MORRANG ,  11519 MORANG 2453 380800\n"
     ]
    }
   ],
   "source": [
    "import sqlite3\n",
    "con = sqlite3.connect('./data/location.s3db')\n",
    "cur = con.cursor()\n",
    "#query=\"select f.Id, f.Address, f.StreetName as street1, s.Id, s.Address, s.StreetName as street2 from LocationReferenced as f ,LocationReferenced as s where f.ClosestLocation = s.Id and street1!=street2 order by street1;\"\n",
    "query=\"select id1, id2, ad1, ad2, name1, name2, RefHash from (select RefHash, min (Id) as id1, max(Id) as id2,  max (Address) as ad1, min(Address) as ad2, max(StreetName)  as name1,min(StreetName) as name2,  count  ( distinct StreetName)  as streetCount from LocationReferenced where IsMaster=1 group by RefHash) where name1!=name2  and streetCount=2 ;\"\n",
    "queryupdate = \"update LocationReferenced set StreetName='{}' where RefHash='{}';\"\n",
    "\n",
    "first = True\n",
    "rows = cur.execute(query).fetchall()[:]\n",
    "for row in rows:\n",
    "    fid, sid, sadress, fadress, fsname, ssname, refhash = row\n",
    "    if first:\n",
    "        first = False\n",
    "        print(fid, fadress, fsname)\n",
    "        print(sid, sadress, ssname)\n",
    "        print(len(rows))\n",
    "    newname = CheckName(fadress, sadress, fsname, ssname, streets, 78.5)\n",
    "    if newname is not None:        \n",
    "        #sql = queryupdate.format(newname,refhash)\n",
    "        #nc = cur.execute(sql)\n",
    "        print('Changed', newname, fadress,', ',sadress,fid, sid) \n",
    "        con.commit()\n",
    "con.close()"
   ]
  },
  {
   "cell_type": "code",
   "execution_count": 38,
   "metadata": {
    "collapsed": true
   },
   "outputs": [],
   "source": [
    "con.close()\n"
   ]
  },
  {
   "cell_type": "code",
   "execution_count": 4,
   "metadata": {
    "collapsed": false
   },
   "outputs": [
    {
     "ename": "KeyboardInterrupt",
     "evalue": "",
     "output_type": "error",
     "traceback": [
      "\u001b[1;31m---------------------------------------------------------------------------\u001b[0m",
      "\u001b[1;31mKeyboardInterrupt\u001b[0m                         Traceback (most recent call last)",
      "\u001b[1;32m<ipython-input-4-ba24ec7ac958>\u001b[0m in \u001b[0;36m<module>\u001b[1;34m()\u001b[0m\n\u001b[0;32m     12\u001b[0m     \u001b[0mnames\u001b[0m \u001b[1;33m=\u001b[0m\u001b[1;33m[\u001b[0m\u001b[1;33m]\u001b[0m\u001b[1;33m\u001b[0m\u001b[0m\n\u001b[0;32m     13\u001b[0m     \u001b[0mtokens\u001b[0m\u001b[1;33m=\u001b[0m \u001b[0mset\u001b[0m\u001b[1;33m(\u001b[0m\u001b[1;33m)\u001b[0m\u001b[1;33m\u001b[0m\u001b[0m\n\u001b[1;32m---> 14\u001b[1;33m     \u001b[1;32mfor\u001b[0m \u001b[0minnerrow\u001b[0m \u001b[1;32min\u001b[0m \u001b[0mcur\u001b[0m\u001b[1;33m.\u001b[0m\u001b[0mexecute\u001b[0m\u001b[1;33m(\u001b[0m\u001b[0mqueryids\u001b[0m\u001b[1;33m.\u001b[0m\u001b[0mformat\u001b[0m\u001b[1;33m(\u001b[0m\u001b[0mrefhash\u001b[0m\u001b[1;33m)\u001b[0m\u001b[1;33m)\u001b[0m\u001b[1;33m:\u001b[0m\u001b[1;33m\u001b[0m\u001b[0m\n\u001b[0m\u001b[0;32m     15\u001b[0m         \u001b[0mtoken\u001b[0m\u001b[1;33m,\u001b[0m  \u001b[0mname\u001b[0m \u001b[1;33m=\u001b[0m \u001b[0minnerrow\u001b[0m\u001b[1;33m\u001b[0m\u001b[0m\n\u001b[0;32m     16\u001b[0m         \u001b[0mnames\u001b[0m\u001b[1;33m.\u001b[0m\u001b[0mappend\u001b[0m\u001b[1;33m(\u001b[0m\u001b[0mname\u001b[0m\u001b[1;33m)\u001b[0m\u001b[1;33m\u001b[0m\u001b[0m\n",
      "\u001b[1;31mKeyboardInterrupt\u001b[0m: "
     ]
    }
   ],
   "source": [
    "import sqlite3\n",
    "con = sqlite3.connect('./data/location.s3db')\n",
    "cur = con.cursor()\n",
    "query=\"select RefHash from (select RefHash from ValidLocationReferenced group by RefHash having count(distinct StreetName) > 1) \"\n",
    "queryids = \"select StreetName, Address from ValidLocationReferenced where Refhash = '{}'\"\n",
    "queryupdate = \"update LocationReferenced set StreetName=? where RefHash=?;\"\n",
    "\n",
    "first = True\n",
    "rows = cur.execute(query).fetchall()[:]\n",
    "for row in rows:\n",
    "    refhash = row[0]\n",
    "    names =[]\n",
    "    tokens= set()\n",
    "    for innerrow in cur.execute(queryids.format(refhash)):\n",
    "        token,  name = innerrow\n",
    "        names.append(name)\n",
    "        tokens.add(token)\n",
    "    newtoken = CheckNames(names, tokens, streets)\n",
    "    if newtoken is not None:        \n",
    "        nc = cur.execute(queryupdate,(newtoken,refhash))\n",
    "        print('Changed:', names, tokens, newtoken) \n",
    "        con.commit()\n",
    "con.close()"
   ]
  },
  {
   "cell_type": "code",
   "execution_count": 17,
   "metadata": {
    "collapsed": true
   },
   "outputs": [],
   "source": [
    "import sqlite3\n",
    "\n",
    "def check(cur, con, refhash, rate=90, add=None):\n",
    "    queryids = \"select StreetName, Address from ValidLocationReferenced where Refhash = '{}';\"\n",
    "    queryupdate = \"update LocationReferenced set StreetName=? where RefHash=?;\"\n",
    "    names =[]\n",
    "    tokens= set()\n",
    "    if add is not None:\n",
    "        tokens.add(add)\n",
    "    for innerrow in cur.execute(queryids.format(refhash)):\n",
    "        token,  name = innerrow\n",
    "        names.append(name)\n",
    "        tokens.add(token)\n",
    "    print(tokens, names)\n",
    "    newtoken = CheckNames(names, tokens, streets, rate)\n",
    "    if newtoken is not None:        \n",
    "        nc = cur.execute(queryupdate,(newtoken,refhash))\n",
    "        print('Changed:', names, tokens, newtoken) \n",
    "        con.commit()\n",
    "        \n",
    "def singlecheck(refhash, rate=90, add=None):\n",
    "    con = sqlite3.connect('./data/location.s3db')\n",
    "    cur = con.cursor()\n",
    "    return check(cur, con, refhash, rate, add)\n",
    "    "
   ]
  },
  {
   "cell_type": "code",
   "execution_count": 94,
   "metadata": {
    "collapsed": false
   },
   "outputs": [
    {
     "name": "stdout",
     "output_type": "stream",
     "text": [
      "None\n",
      "{'Joy Road', 'Field Avenue', 'Meyers Road'} ['12701 JOY ROAD', '12701 JOY ROAD', '12701 JOY ROAD', '12701 JOY ROAD', '12700 JOY ROAD', '12701 JOY ROAD', '00 MEYERS/JOY RD', '00 SOUTHFIELD POLICE DEPT', '00 SOUTHFIELD POLICE DEPT', '00 MEYERS AND JOY RD']\n",
      "85.4 Joy Road\n",
      "Changed: ['12701 JOY ROAD', '12701 JOY ROAD', '12701 JOY ROAD', '12701 JOY ROAD', '12700 JOY ROAD', '12701 JOY ROAD', '00 MEYERS/JOY RD', '00 SOUTHFIELD POLICE DEPT', '00 SOUTHFIELD POLICE DEPT', '00 MEYERS AND JOY RD'] {'Joy Road', 'Field Avenue', 'Meyers Road'} Joy Road\n"
     ]
    }
   ],
   "source": [
    "singlecheck('dpsbgrnv7uppuntmtdy7hc0002000000',85)"
   ]
  },
  {
   "cell_type": "code",
   "execution_count": null,
   "metadata": {
    "collapsed": true
   },
   "outputs": [],
   "source": []
  }
 ],
 "metadata": {
  "kernelspec": {
   "display_name": "Python 3",
   "language": "python",
   "name": "python3"
  },
  "language_info": {
   "codemirror_mode": {
    "name": "ipython",
    "version": 3
   },
   "file_extension": ".py",
   "mimetype": "text/x-python",
   "name": "python",
   "nbconvert_exporter": "python",
   "pygments_lexer": "ipython3",
   "version": "3.5.1"
  }
 },
 "nbformat": 4,
 "nbformat_minor": 0
}
