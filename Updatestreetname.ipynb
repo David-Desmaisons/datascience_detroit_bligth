{
 "cells": [
  {
   "cell_type": "code",
   "execution_count": 2,
   "metadata": {
    "collapsed": false
   },
   "outputs": [
    {
     "name": "stdout",
     "output_type": "stream",
     "text": [
      "Seven Mile Road\n",
      "Seven Mile\n"
     ]
    }
   ],
   "source": [
    "from fuzzywuzzy import process\n",
    "import re\n",
    "from collections import deque\n",
    "import itertools\n",
    "\n",
    "class namecontext:\n",
    "    def __init__(self, size):\n",
    "        self.unique = set()\n",
    "        self.queue = deque(maxlen=size)\n",
    "        \n",
    "    def __contains__(self, item):\n",
    "        return item in self.unique\n",
    "\n",
    "    def addcontext(self, name):\n",
    "        if (name in self) or (name is None):\n",
    "            return\n",
    "        self.queue.append(name)\n",
    "        self.unique = {x for x in self.queue}\n",
    "\n",
    "def registerStreets(streets):\n",
    "    streets[\"11th Street\"] = \"Eleventh Street\"\n",
    "    streets[\"2nd Avenue/Street\"] = \"Second Avenue/Street\"\n",
    "    streets[\"12th Street\"] = \"Twelfth Street\"\n",
    "    streets[\"8th Street\"] = \"Eight Street\"\n",
    "    streets[\"6th Street\"] = \"Sixth Street\"\n",
    "    streets[\"5th Street/Street\"] = \"fifth Street/Street\"\n",
    "    streets[\"3rd Avenue/Street\"] = \"Third Avenue/Street\"\n",
    "    streets[\"4th Avenue/Street\"] = \"Fourth Avenue/Street\"\n",
    "    streets[\"1st Street\"] = \"First Street\"\n",
    "    streets[\"10th Street\"] = \"Tenth Street\"\n",
    "    streets[\"7 Mile Road\"] = \"Seven Mile Road\"\n",
    "    streets[\"3 Mile Road\"] = \"Three Mile Drive\"\n",
    "    \n",
    "    \n",
    "class resultValue:\n",
    "    def __init__(self, valor):\n",
    "        self.value = valor\n",
    "    \n",
    "    \n",
    "class streetfinder:\n",
    "    def __init__(self, precision =60, size =10):\n",
    "        self.regex = re.compile('^([0-9]+)[ -](.+)$')\n",
    "        with  open('./data/Detroitstreet.txt', 'r') as f:\n",
    "            allstreets =[t[:-1].strip() for t in f.readlines()]\n",
    "            self.streets = {x: x for x in allstreets}\n",
    "        registerStreets(self.streets)\n",
    "        print(self.streets[\"7 Mile Road\"])\n",
    "        for key, value in self.streets.items():\n",
    "            stripname = value.replace(' Avenue/Street','').replace('Avenue/Place','').replace('Avenue/Road','').replace(' Street','').replace(' Avenue','').replace(' Road','').replace(' Court','').replace(' Drive','').replace(' Place','')\n",
    "            if (not stripname == key) and len(stripname)>2:\n",
    "                self.streets[key] = stripname\n",
    "        print(self.streets[\"7 Mile Road\"])\n",
    "        self.precision = precision\n",
    "        self.cached = {}\n",
    "        self.context = namecontext(size)\n",
    "            \n",
    "            \n",
    "    def bestmatch(self, result):\n",
    "        if len(result) ==0:\n",
    "            return True, None\n",
    "        if len(result) ==1:\n",
    "            return True, result[0][2]\n",
    "        for candidat in result:\n",
    "            curr = candidat[2]\n",
    "            if curr in self.context:\n",
    "                return False, curr\n",
    "        return False, candidat[2]\n",
    "            \n",
    "    def extractFirsts(self, query):\n",
    "        best_list = process.extractBests(query, self.streets, score_cutoff= self.precision)\n",
    "        if len(best_list) == 0:\n",
    "            return best_list\n",
    "        first_score = best_list[0][1]\n",
    "        return list(itertools.takewhile(lambda x: x[1] == first_score, best_list))\n",
    "    \n",
    "    def getfromchache(self, name):\n",
    "        res = self.cached.get(name)\n",
    "        if res is not None:\n",
    "            self.context.addcontext(res.value)\n",
    "            return res\n",
    "        return None\n",
    "            \n",
    "    def match(self, name):\n",
    "        res = self.getfromchache(name)\n",
    "        if res is not None:\n",
    "            return res.value\n",
    "        name = name.replace(' BLVD',' Boulevard').replace(' RD','Road').replace(' DR','Drive')\n",
    "        res = self.getfromchache(name)\n",
    "        if res is not None:\n",
    "            self.cached[name] = resultValue(res.value)\n",
    "            return res.value               \n",
    "        allres = self.extractFirsts(name)\n",
    "        unic, res = self.bestmatch(allres)\n",
    "        if unic:\n",
    "            self.cached[name] = resultValue(res)\n",
    "        self.context.addcontext(res)\n",
    "        return res\n",
    "    \n",
    "    def parse(self, streetaddress):\n",
    "        m = self.regex.match(streetaddress)\n",
    "        if m is not None:\n",
    "            return (int(m.group(1)), self.match(m.group(2)))\n",
    "        return (None, self.match(streetaddress))\n",
    "    \n",
    "\n",
    "sf = streetfinder( precision =90)"
   ]
  },
  {
   "cell_type": "code",
   "execution_count": 2,
   "metadata": {
    "collapsed": false
   },
   "outputs": [
    {
     "name": "stdout",
     "output_type": "stream",
     "text": [
      "(5519, '3 Mile Road')\n",
      "(7575, 'Chrysler Service Drive')\n",
      "(1295, 'Balmoral Avenue/Road')\n",
      "(6421, 'Cymbal Street')\n",
      "(12800, None)\n"
     ]
    },
    {
     "data": {
      "text/plain": [
       "[('Schaefer Highway', 86, 'Schaefer Highway'),\n",
       " ('Fern', 74, 'Fern Avenue'),\n",
       " ('Fern', 74, 'Fern Place'),\n",
       " ('Defer', 72, 'Defer Place'),\n",
       " ('Chase', 72, 'Chase Street'),\n",
       " ('Chase', 72, 'Chase Road'),\n",
       " ('Shaw', 68, 'Shaw Street'),\n",
       " ('Hale', 68, 'Hale Street'),\n",
       " ('Harper', 60, 'Harper Avenue'),\n",
       " ('Keifer', 60, 'Keifer Street'),\n",
       " ('Harper', 60, 'Harper Court'),\n",
       " ('Schley', 60, 'Schley Street'),\n",
       " ('Lee', 60, 'Lee Place'),\n",
       " ('Hafeli', 60, 'Hafeli Place'),\n",
       " ('Chapel', 60, 'Chapel Avenue'),\n",
       " ('Scheffer/Street', 59, 'Scheffer Place/Street'),\n",
       " ('Chartier', 57, 'Chartier Avenue'),\n",
       " ('Emery', 57, 'Emery Avenue'),\n",
       " ('Schweizer', 57, 'Schweizer Place'),\n",
       " ('Chandler', 57, 'Chandler Avenue')]"
      ]
     },
     "execution_count": 2,
     "metadata": {},
     "output_type": "execute_result"
    }
   ],
   "source": [
    "print(sf.parse('5519 THREE MILE DR'))\n",
    "print(sf.parse('7575 CHRYSLER'))\n",
    "print(sf.parse('1295 BALMORAL DR'))\n",
    "print(sf.parse('6421 CYMBAL'))\n",
    "print(sf.parse('12800 ST MARYS'))\n",
    "\n",
    "16800 \n",
    "process.extractBests('ST MARYS', sf.streets, limit=20)\n",
    "process.extractBests('SCHAEFER HWY', sf.streets, limit=20)"
   ]
  },
  {
   "cell_type": "code",
   "execution_count": 2,
   "metadata": {
    "collapsed": false
   },
   "outputs": [
    {
     "data": {
      "text/plain": [
       "'8 Mile'"
      ]
     },
     "execution_count": 2,
     "metadata": {},
     "output_type": "execute_result"
    }
   ],
   "source": [
    "sf.streets['8 Mile Road']"
   ]
  },
  {
   "cell_type": "code",
   "execution_count": 3,
   "metadata": {
    "collapsed": false,
    "scrolled": true
   },
   "outputs": [
    {
     "name": "stdout",
     "output_type": "stream",
     "text": [
      "1 4331  BARHAM None\n",
      "7133\n",
      "1\n",
      "....\n",
      "1001\n",
      "....\n",
      "2001\n",
      "....\n",
      "3001\n",
      "....\n",
      "4001\n",
      "....\n",
      "5001\n",
      "....\n",
      "6001\n",
      "....\n",
      "7001\n",
      "....\n"
     ]
    }
   ],
   "source": [
    "import sqlite3\n",
    "con = sqlite3.connect('./data/location.s3db')\n",
    "cur = con.cursor()\n",
    "#query=\"select Id, Address, StreetName, StreetNumber from LocationReferenced where StreetName is null or StreetName='D Street' order by GeoHash;\"\n",
    "#query=\"select Id, Address, StreetName from LocationReferenced where StreetName='Green Avenue';\"\n",
    "query=\"select Id, Address, StreetName from DismantledLocationReferenced where StreetName is null;\"\n",
    "queryupdate = \"update DismantledLocationReferenced set StreetName=:name, StreetNumber=:number where Id=:rid;\"\n",
    "\n",
    "count=1\n",
    "rows = cur.execute(query).fetchall()[:]\n",
    "for row in rows:\n",
    "    rid, adress, snam = row\n",
    "    if count ==1:\n",
    "        print(rid, adress, snam)\n",
    "        print(len(rows))\n",
    "    number, name =  sf.parse(adress)\n",
    "    if name is not None or number is not None:\n",
    "        cur.execute(queryupdate, {'name':name,'number':number,'rid':rid})\n",
    "        con.commit()\n",
    "    if count%1000==1:\n",
    "        print(rid)\n",
    "        print('....')\n",
    "    count+=1\n",
    "con.close()"
   ]
  },
  {
   "cell_type": "code",
   "execution_count": 77,
   "metadata": {
    "collapsed": false
   },
   "outputs": [
    {
     "name": "stdout",
     "output_type": "stream",
     "text": [
      "update LocationReferenced set StreetName=null where Address in ('19968 Five Points St', '8253 Desota St', 'Saint Mary''S St.', '2249 S. Kane', '5000 Conner Street 48213,', '52 Mount Vernon St', '18092  Greely St.', '6355 Miltary St', '1400 Mount Elliott Street 48207,', '5000 Conner Street 48213,', '3548 West Outwr Drive 48221', '4280 Seebaltd St Mi 48204', '19820 Praire St', '16509 Saint Marys Street', '2222 Mount Elliott Street 48207,', 'Drive Chrysler Freeway & Interstate 75 & Interstate 94', '11301-11325 Gietzen St', '11241 Kenmoor St', '11240-11248 Kenmoor St', '11248 Kenmoor St', '11240-11248 Kenmoor St', '11234 Kenmoor St', '638 W Euclifd', '18646 Saint Aubin Street 48234,', 'Fischer Street Wayne County, 48213, United States of America', '7752 Aubrun St.', 'Rochelle St', '439 Conner Street 48215,', '9741 Manisitique St.', '6509 Saint Marys Street', '11240 Kenmoor St', '11109 Kenmoor St', 'John C Lodge Freeway & Interstate 94 48202,', '4401-4459 Saint Antoine Street', '19901-20387 Mt Elliott St', '19165 Hawthrone', '2735 Mount Elliott Street 48207,', 'E 1-25 Goldengate E', '4401-4459 Saint Antoine Street', 'Stahelin Street 18434 Stahelim', '17823 Chester Street 48224,', '4933 Belivideres St', '7333-7341 I- 96 Service Road 48204,', 'N Opl. -Serv.            211'' N.N. P/L Mcgraw - 1'' W.W. P/L John E. Hunter St.', '7709 Epworth Street', '1701-1847 St Aubin St', '1216-1398 St Aubin St', '10101-10145 Jeffries Service Dr', '10101-10145 Jeffries Service Dr', '1360 Mt Elliotts St', '22698 N. Kane', '4026 W Philadelpia St', '17536   San Babara', '11610 Griener St', '1700-1846 Saint Aubin Street', '530-968 Saint Aubin Street', '9603 Mount Elliott St', '14840 Linnhurst St', '5405 Conner St', '5405 Conner St', '4853   Marlborugh  St', '2490-2598 Mc Kinstry St', '1724-1868 Trombly Street 48211,', '12000 Kenmoor St', '8548 Ameican St', 'Clairpoint/e Avenue 281  E Plamer', '30th Street 5730 30 Th', '5244 Seebalt St', '6600 Mount Elliott Street', 'Fiske Avenue/Drive I-96 Service Drive', '3301-3459 Jeffries Service Drive', '465-563 West Goldengate Street 48203,', 'Wayne State University Wayne State University School of Medicine, 3942-4156 Brush Street, 48201,', '4809 Saint Clair Street 48214,', '4532 Saint Clair Street 48214,', 'Lady''s Lane People Mover Column At Beaubien And East Jefferson Next Door To Tom''S Oyster Bar', 'Ann Street 1541 Sainte Anne', '3193 Sherbourne Road 48221,', 'Flower Court/Street Wayne State University Wayne State University School of Medicine, 3022 Brush Street, 48201,', '7806 S Pett', '3501 Saint Antoine Street 48201,', '6332 John Kronk', '904 W. Philadeliphia St.', '1374 Mount Elliott Street', '10101-10123 Jeffries Service Drive 48238,', '8701 Interval St', '8074-8998 Conner St', '2447-2499 St Aubin St', 'Chrysler Service Drive 1854-1898 Chrysler Drive 48207,', 'Lowell Drive/Road 7333-7341 I- 96 Service Road 48204,', 'Ogden Street Wayne County, 48210, United States of America', '8 Mile Road W. Egiht Mile', 'Ewald Circle 3045 Ewald Cir', '13659 Linnhurst St', 'South Bound Jefferies Freeway Service Drive', '5174-5398 Weir St', '5175-5399 Weir St', '14827  Saint Marys St.', '20485-20559 Conner St', '17353 Wiisconsin St', 'C Street 439 Conner Street 48215,', 'St. Josafats/Josephat Street Calvary St.', 'Chipman Place/Street 20400-20436 Audrey Street 48235,', '5001 Saint Jean Street 48214,', '1466 Service Street 48207,', 'East Edsel Ford Service Drive & Saint Antoine Street & Interstate 94 48202,', '5050 Saint Antoine Street 48202,', '3407 Trumbell St', '10953-10999 Mc Kinney St', 'West Fisher Service Drive 48216,', '1001-1073 Mount Elliott Street 48207,', '2101-2149 West Fisher Service Drive 48216,', '18020 Saint Marys Street 48235,', 'Campau''s River Lennox At Remus Robinson School Just Before The Entrance Of The Gray Haven Complex.''S Eastside 48215 MI', 'John C Lodge Service Drive & John C Lodge Freeway 48201,', '1901-1955 West Fisher Service Drive 48216,', '231-297 Summit Street 48209,', 'St Fair', '18900 Chrysler  St', '8664 Gainsborough Road 48223,', 'Wayne State University Wayne State University: School of Medicine, 4401-4459 Saint Antoine Street, 48201,', '3570-3698 Jeffries Service Drive', 'St. Aubin Avenue 6476-6482 Epworth St', 'Chrysler Service Drive John C Lodge Service Drive & John C Lodge Freeway 48201,', 'Alder Court/Place/Street 11051 Mogul Street Wayne County, 48224, United States of America', 'North Campbell Avenue North John C Lodge Freeway Wayne County, 48238, United States of America', 'James Couzens Highway James Couzens Freeway Wayne County, 48221, United States of America', 'South Dearborn 10 South John C Lodge Freeway, Wayne County, 48201, United States of America', 'West Chicago Forest Arms West Forest Avenue, Wayne County, 48208, United States of America', 'Coplin Street Wayne County, 48215, United States of America', '5541 Coplin Street Wayne County, 48224, United States of America', '5524 Drexel Street Wayne County, 48213, United States of America', '5503 Lenox Street Wayne County, 48213, United States of America', '5307 Lenox Street Wayne County, 48213, United States of America', '4673 Dickerson Street Wayne County, 48205, United States of America', 'East Canfield Street Wayne County, 48215, United States of America', '19 Steve Yzerman Drive 48226,', '17647 Chester Street Wayne County, 48236, United States of America', '11501-11521 Conner Street 48205,', 'Sanjuan St', '2170-2178 St Clair St', '2200-2242 Cochrane Street 48216,', '1180-1362 Chrysler Drive 48207,', '11100 Conner Street 48213,', '8932-8938 Mount Elliott Street 48211,', 'Santa Rosa Drive Rosa Parks Blvd. & Fisher Fwy. 48216,', '7355 Saint Marys Street 48228,', '19601 Healy St .. This Is an abandoned house that''s on the demo list children keep playing in there and they will get hurt it needs to be destroyed before someone gets killed', '2966-3150 Conner Street 48215,', '1331-1391 Elijah Mc Coy Dr', '15255 Saint Marys Street 48227,', 'Celestine Charles Young 2 Houses South 19159 Appleton Burned And Slated For Demolition posted. For Over Year, Young CHILDREN Living Next Door And Open To Possible Harm.', '5759 Bishop Street Wayne County, 48224, United States of America', '5000 Conner Street 48213,743-799 West Fisher Service Drive 48201,', '45 West Fisher Service Drive', '001-2133 St Aubin St', '657 Mcmillam St', '7043 Saint John', '2198 Mount Elliott Street 48207,', '7600-7628 Epworth Street 48204,', '13501-13599 Linnhurst Street 48205,', '19056-19098 East Edsel Ford Service Drive 48236,', '2160 Mount Elliott Street 48207,', 'Wayne State University Wayne State University: School of Medicine, 4401-4459 Saint Antoine Street, 48201,', 'Drexel Street Wayne County, 48215, United States of America', 'West Point Avenue College For Creative Studies - Taubman Center 460 West Baltimore Avenue, 48202,', 'Dickerson Avenue N 1506 Dickerson Avenue 48215,', '5119 Saint Clair Street 48213,', '1701-2429 Mount Elliott Street 48207,', '4860 15 Th St.', 'John C Lodge Freeway & Interstate 94 48202,', '14624-14750 Saint Marys Street 48227,', '8890 Marlow St', 'Gm Renaissance Center', '2714 S Decacon', '6103 Marseilies St', '11241 Kenmoor St', '4003 Birkshire', '2198 Mount Elliott Street 48207,', '1551-1599 Saint Antoine Street 48226,', 'I-94 Service Drive And Conner', '10901-11415 Mount Elliott Court 48212,', '11301-11325 Gietzen St', '11301-11325 Gietzen St', '11240 Kenmoor St', '11241 Kenmoor Street 48205,', '11241 Kenmoor St', 'John C Lodge Service Dr & John C Lodge Fwy & Chicago Blvd', '2501-2599 Mc Kinstry Street 48209,', '3039 Cochrane St', 'S Kane St', 'S Kane St', 'East Canfield Street Wayne County, 48207, United States of America', 'Stephens School (Closed) 6606, Seneca Street, Wayne County, 48213, United States of America', '11241 Kenmoor St', 'Riverside Park West Jefferson Avenue, Wayne County, 48216, United States of America', '12701-12799 Jeffries Service Drive 48227,', '6202 Grayton Street Wayne County, 48224, United States of America', '22415 S Kane St', '17403 Mt Elliott St Hamtramck,', '22415 S Kane St', '3500-3546 Jeffries Service Dr', '3000-3298 Jeffries Service Dr', '2811 Cochrane St', '19300-19340 Gainsborough Road 48223,', '11234-11240 Kenmoor St', '2936 Conner St', '11062 Kenmoor St', '5050 Saint Antoine Street 48202,', 'Fiske Avenue/Drive I-75 Service Drive', '2160 Mount Elliott Street 48207,', '11454 Kenmoor St', '188-198 East Fisher Service Drive 48201,', '11240-11248 Kenmoor St', '11249 Kenmoor St', '2919 Lake View St', '7 Mile 48205', 'Saint Cyril St', '1550 Mc Kinstry Street 48209,', '1419 Mc Kinstry Street 48209,', '2198 Mount Elliott Street 48207,', '13556-13598 Jeffries Service Dr', 'Grandy Street Wayne County, 48211, United States of America', '22734 N Kane', '10136-10298 Mount Elliott Street', '18014 Saint Marys Street 48235,', 'Elegant St', 'Lyfird St', '18810 Boat St', 'Lake Pointe St', '18821 Mac Crary St', '18815 Goose St', '18821 Rogg St', '859 Conner Street 48215,', 'Brush And Westbound Edsel Ford Service Drive', '11319 Kenmoor Street 48205,', '11241 Kenmoor St', '11115 Kenmoor St', '5050 Saint Antoine Street 48202,', 'Wayne County, 48209, United States of America', '18410-18420 St Marys St', 'No Street Address Available', '710 Clairponte St', '11241 Kenmoor St', '4401-4459 Saint Antoine Street', '6703 Brimsom', '3901-3999 Conner Street 48215,', '2400-2598 Cochrane Street 48216,', '2617 Cochrane Street 48216,', '9421 Mount Elliott Street 48211,', '17228 Hambrug St', '11234-11240 Kenmoor St', '7333-7341 I- 96 Service Road', 'West Eight Mile Road & Eight Mile Road & U.S. 24 48219,', '5600-5636 Conner St', '18014 Saint Marys Street 48235,', '3801-3999 West Fisher Service Drive', '3900-4098 Conner Street 48215,', '5555 Conner St', '20276 Mccormic St.', '7702 W Pkwy St', '7707 W Pkwy St', '8463 Mount Elliott Street 48211,', '18667 Mt Elliot St', '13691 Linnhurst St', '13697 Linnhurst St', '13683 Linnhurst St', '7336 Rockdale 48239 Far West Security Patrol 44 BASE OPERATOR RESIDENCE', '447 Conner Street 48215,', 'I- 96 Service Drive Wayne County, 48223, United States of America', '18540 Saint Aubin Street 48234,', '18465 Lancanshire St.', '16730 St Marys St', '4701 Saint Aubin Street 48207,', '11270 Kenmoor St', '6801-7561 John Kronk Street 48210,', '8231 Chalfone St', '19989 Saint Aubin Street 48234,', '11270 Kenmoor St', '331 Mount Vernon Street 48202,', '1443-1449 Mc Kinstry Street 48209,', '1301-1399 St Antoine St', '4401-4459 Saint Antoine Street', '634-640 W Goldengate St', '19800 Saint Marys Street 48235,', '7336 Rockdale Det. 48239 Far West Security Patrol 44 Base Operator , reporting', '20311 Alderton Street', '7336 Rockdale Det., 48239 Far W. Security Patrol Base Operator reporting', '7336 Rockdale Det. 48239 Far W. Security Patrol #44 Base Operator Reporting', '5353 Saint Clair Street 48213,', '5336-5340 St Clair St', '17878 Runyo St', '19008-19054 East Edsel Ford Service Drive 48236,', '7336 Rockdale Det., 48239 Far W. Security Patrol Base Operator Reporting', '7336 Rockdale Det., 48239 Far W. Security Patrol Base Operator Reporting', '7336 Rockdale Det., 48239 Far W. Security Patrol 44 Base Operator reporting', '7336 Rockdale Det., 48239 Far W. Security Patrol 44 Base Operator reporting', '7336 Rockdale Det. 48239 Far W. Security Patrol 44 Base Operator reporting', '7336 Rockdale Det. 48239 Far W. Security Patrol 44 Base Operator Reporting', '10292 Havard St', '4898-4998 St Antoine St', '7336 Rockdale Det., 48239 Far W. Security Patrol 44, Base Operator reporting', '7336 Rockdale Det., 48239. Far W. Security Patrol 44 Base Operator Reporting', '7336 Rockdale Det. 48239, Far W. Security Patrol 44 Base Operator Reporting', '7336 Rockdale DET., 48239 Far W. Security Patrol 44 Base Operator Reporting', '7336 Rockdale Det., 48239 Far W. Security Patrol Base Operator Reporting', '7336 Rockdale Det., 48239 Far W. Security Patrol 44 Base Operator Reporting', '7336 Rockdale DET., 48239 Far W. Security Patrol 44 Base Operator Reporting', '501-599 Mt Elliott St', 'Interstate 94 Service Rd & Interstate 94 & E Edsel Ford Service Dr', '2617 Cochrane St 48216,', '7 Mile E 48234', '4401-4459 Saint Antoine Street', '1550-1598 St Antoine St 48226,', '9350-9360 St Cyril St', '4401-4459 Saint Antoine Street', '19934 St Aubin St 48234,', '3124 S Greyfriar St 48217,', '5000 Conner St 48213,', '3900-4098 Conner St 48215,', 'Gasse St', '18017-18899 Chester St', 'E Fisher Service Dr', '12701-12799 Jeffries Service Dr', '20601-20657 East M-1 Srv Road', '18921 Alsteat', '3339 Cloumbus St', '20851 W. Sevn Mile', '3501 Hamtramck Drive Hamtramck,', '9801-9999 Mt Elliott St 48211,', '7120 Saint John', '19176-19254 U.S. 24', '419 W. Philadephia', '2820 Cochrane St 48216,', '1500 Trombly St', 'John C Lodge Service Dr & John C Lodge Fwy', 'Kirvy E St', 'W W Fisher Service Dr & I-75 48201,', '00000 MILE/ BEACH DAILY', '00 DICKERSON FACILITY', '11400 E 7MILE', '00 GM RENAISSANCE CENTER', '19700 W. 7MILE', '15400 W 7MILE', '15600 E. 7MILE', '00 W/B 94 / N/B 75', '00 DICKERSON DETENTION CENTER', '22000 W. 7MILE', '05800 E. 7MILE CITGO GAS STATION', '04800 ST CLAIR STREET', '04500 S/B CHRYSLER', '00 MACK/CONNER  MARATHON GAS STATION', '13700 CAPITAL ST.', '21300 W. 7MILE', '22300 W 8MILE', '00200 RENAISSANCE CENTER (A T & T)', '07000 W VERNON', '03400 GLIBERT', '24200 W. 7MILE APT. 46', '10800 W. 7MILE', '00800 W.6MILE', '00 F/O 9053 GREEENVIEW ST.', '00000 MILE GLASTBURY', '00 CHENE AND EAST BOUND EDSEL FORD SERVICE DRIVE', '13200 ST ERVIN AVE', '00 E/B FORD SERVICE DR. E/O ST. ANTIONE', '00400 W GOLDENGATE (LOWER FLAT)', '20600 W. 7MILE', '22000 W. 8MILE APT. 202', '02800 S. SCHAEFER', '00000 MILE AND SCHAFER', '00000 MILE AND SCHAEFER', 'S 04200 S CHRYSLER SD', '01700 14 TH ST', '00 JOE LOUIS ARENA  PARKING 19 STEVE YZERMAN DR  48226', '11400 KENMOOR ST', '00 MARATHON GAS STATION CONNER & MACK', 'N 22700 N KANE', '20300 W 8MILE', '00000 MILE AND SCHAEFER', '04500 S/B CHRYSLER S/D ( INCLUSIVE SOLUTIONS )', 'C Street 12300 WEST JEFFRIES', '20600 W.7MILE', '02300 RIEDEN ST', '1300 JOLIET PLACE', '00600 W.WILLS', '04700 S CHRYSLER DR APT 111', '00500 S COTTRELL', '16500 SCHAEFER APT 8', '10000 E. 8MILE', '05300 S CHRYSLER DR', '07800 E JEFFERSION APT#1412', '09100 SCHAEFER APT 3', '05200 S/B CHRYSLER', '02900 GRANDRIVER (MOTORCITY CASINO PARKING STRUCTURE ELM STREET ENTRANCE)', '94 WEST BOUND', '21300 W 7MILE', '00000 MILE / GROSBECK', '00 DICKERSON JAIL', '00000 MILE SCHAEFER', '14300 TERRY ST.                        (BURNS ELEMENTARY)', '08000 W. 8MILE RD  SAFEWAY SERVICE CENTER', '00000 MILE/SCHAEFER', '22500 S KANE', '02700 W. JEFFRIES #1B', '18900 W. 7MILE', '22600 N KANE', '20000 BALLATYNE COURT GROSSE POINTE 48236', '00300 W 7MILE', '12700 E 7MILE', '02500 FERIS ST', '10200 W 7MI', '23500 W. 7MILE APT.11', '07600 E 7MILE', '00 F/O  12800 E 7MILE RD', '00 JEFFRIES/E SCHAEFER', '12900 E. 7MILE', '04400 RD APARTMENT #8', '00400 S. SCHAEFER HWY', '23800 W.7MILE', '01200 ST ANTIONE', '08100 SCHAEFER, APT 3', '01300 MILE (MEIJERS)', '20600 W.7MILE', '00300 S. SCHAFER HWY', '00 EB FORD SERVICE DRIVE AND SB LODGE SERVICE DRIVE', '00000 MILE / MT ELLIOT', '00500 WEST ST', '16400 E 8MILE', '3901 CHRYSLER SD', '01300 W 8MILE', '22600 N KANE', '00 R/O 16625 SCHAEFER', '22700 N. KANE', '05200 S CHRYSLER DR APT 612', '06600 WINTROP ST', '00 F/O 7416 ARTEST', '13500 GRIENER', '00000 MILE ANS ST MARYS', '00 S JOHN C LODGE SVC DR AND W EDSEL FORD SVC DR', '02000 S SCHAEFER', '18200 PRAIRE STREET', '04700 S CHRYSLER SVC DR', '3200 W FISHER SERVICE DR', '01200 ST. ANTIONE (GREEKTOWN CASINO) 4TH FLOOR PARKING STRUCTURE (ROW A)', '17500 JOSEPH CAMPU', '3400 W.7MILE', '04700 W. FORT STATION ( FIREHOUSE ENGINE 27 LADDER 8)', 'MILE/EDINBOUROUGH', '00100 RENAISSANCE CENTER', '19900 DAMMAN ST', '00 JOHN C LODGE SERVICE DRIVE NORTH OF GRAND BLV', '15600 E. 7MILE', '00000 MILE AND SCHAEFER', '12700 W 7MILE', '06300 VAUGHN ST', '11700 E. 6MILE', '01200 E. 7MILE', '00600 GRISWALD', '11600 E 7MILE', '00 DICKERSON DIV #3', '23600 WEST 7MILE APT D112', '00000 MILE AND  SCHAEFER', '04100 SUMERSET', '00 DICKERSON CORRECTIONAL FACILITY', '19300 W 8MILE', '04200 AUDOBON', '07400 S CHRYSLER', '14400 E 7MILE', '03700 E. 7MILE', '15100 GRATOIT', '08500 E A MILE', '00500 WEST ST.', '11200 KINNEBEC', '21600 W. 7MILE', '00600 NEW TOWN', '00 W 7MILE & BRAILIE', '00500 W GOLDENGATE', '01300 3 RD ST', '16100 E 7MILE', '04300 DICKERSON DET MI', '00 RENAISSANCE CENTER MARRIOTT HOTEL PARKING (MILLER PARKING STRUCTURE)', '03500 HAMTRAMCK DR (DICKERSON JAIL)', '0 RENNAISANCE/ ST ANTOINE', '02900 IROQUIOS ST', '21400 W 8MILE', '15500 E WAREEN', '06600 JOHN KRONX', '00000 MILE/94 SERVICE DRIVE', '01300 E FISHER', '14100 MILE ROAD (RAINBOW)', '01600 E. 8MILE (AZZO LIQUOR PARKING LOT)', '11600 E 7MILE', '01300 CASS AVE ROSA PARKS TRANSIT CENTER', '21600 W. 8MILE', '23300 W 8MILE RD APT#111', '05100 BANGER ST', '27200 W 7MILE APT 67A', '00600 W 7MILE', '03500 HAMTRAMCK DR. (DICKERSON)', '04700 ST ANTOINE APT 201', '02300 E WALD CIRCLE APT 212', '00 F/O 20012 ST AUBIN', '05100 E NEVADE', '00 MOORANG ST. & KELLEY RD.', '05600 JOHN C LDG', '18900 MINCA ST', '11300 E 7MILE', '15300 KIEBLER', '06900 SAINT JOHN ST.', '00000 MILE / TELEGRAPGH', '00400 ST ANTIONE', '16600 PRAIRE ST', '12700 W 7MILE', '11600 E 7MILE                       (OSBORN HIGH SCHOOL)', '15400 W 7MILE MOBIL GAS STATION', '20100 SAINT AUBIN ST', '01300 JOLIET PLACE', '21000 W. 7MILE', '20200 W. 7MILE', '15400 PRAIRE ST', '00600 EAST STREET', '05200 S/B CHRYL SD #715', '07400 W 7MILE', '1300 PALLOSTER', '09100 SCHAEFER APT 3', '03100 W.8MILE', '18600 PEMBRIKE', '01500 BRITTAN CIRCLE APT 3', '09800 E.8MILE', '08600 HERITAGE PL APT 105', '00 I 75/E. MICNICHOLAS', '00 CONNER/MACK (MARATHON GAS STATION)', '00 F/O 8032 CENTROL', '00700 METALBROOK ST', '00900 HAGUS ST', '00 DICKERSON DETENTION CENTER', '00400 W GOLDENGATE (LOWER)', '00 F/O 2493 GLENALE', '00 EB EDSEL FORD SR DR AND S JOHN LODGE SR DR', '02200 S SCHAEFER', '10800 BALFORE ST.', '00000 MILE/ PONTCHATRAIN', '08500 E. 8MILE', '00600 EAST ST', '03100 BROOKYN ST.', '14300 WEST 10 MILE', '05200 S CHRYSLER APT710', '12700 CONNER ST', '00600 EAST ST', '00 SCHAEFER / E JEFFRIES', '13000 SCHAEFER / E JEFFRIES SERVICE DR', '17600 W. 7MILE', '12300 LINNHURST ST', '10054  ST. MARYS', '09500 KAEIR ST', '00600 E AST', '06500 ST ANTIONIE', '00 ST.  ANTOINE CHILDRENS HOSPITAL', '00000 MILE/ SCHERESD', '04600 S. CHRYSLER D' );\n",
      "602\n"
     ]
    }
   ],
   "source": [
    "import sqlite3\n",
    "con = sqlite3.connect('./data/location.s3db')\n",
    "cur = con.cursor()\n",
    "\n",
    "queryupdate = \"update LocationReferenced set StreetName=null where Address in {};\"\n",
    "\n",
    "allfile = \"(\"\n",
    "first = True\n",
    "with  open('./data/clean.txt', 'r') as f:\n",
    "    for line in f.readlines():\n",
    "        if not first:\n",
    "            allfile +=', '\n",
    "        allfile += \"'\"+ line[:-1].replace(\"'\",\"''\")+ \"'\"\n",
    "        first=False\n",
    "\n",
    "allfile+=\" )\"    \n",
    "allfile\n",
    "\n",
    "con = sqlite3.connect('./data/location.s3db')\n",
    "cur = con.cursor()\n",
    "query = queryupdate.format(allfile)\n",
    "print(query)\n",
    "cur.execute(query)\n",
    "print(cur.rowcount)\n",
    "con.commit()\n",
    "con.close()"
   ]
  },
  {
   "cell_type": "code",
   "execution_count": null,
   "metadata": {
    "collapsed": true
   },
   "outputs": [],
   "source": []
  }
 ],
 "metadata": {
  "kernelspec": {
   "display_name": "Python 3",
   "language": "python",
   "name": "python3"
  },
  "language_info": {
   "codemirror_mode": {
    "name": "ipython",
    "version": 3
   },
   "file_extension": ".py",
   "mimetype": "text/x-python",
   "name": "python",
   "nbconvert_exporter": "python",
   "pygments_lexer": "ipython3",
   "version": "3.5.1"
  }
 },
 "nbformat": 4,
 "nbformat_minor": 0
}
