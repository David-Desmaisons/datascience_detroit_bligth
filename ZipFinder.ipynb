{
 "cells": [
  {
   "cell_type": "code",
   "execution_count": 9,
   "metadata": {
    "collapsed": false
   },
   "outputs": [
    {
     "name": "stdout",
     "output_type": "stream",
     "text": [
      "12701 14th Avenue, Detroit, MI\n",
      "12701 14th Avenue, Detroit, MI  =>  'NoneType' object has no attribute 'address'\n",
      "None 14th Avenue 12701\n",
      "504 Morang Avenue, Detroit, MI\n",
      "504 Morang Avenue, Detroit, MI  =>  'NoneType' object has no attribute 'address'\n",
      "None Morang Avenue 504\n",
      "80100 Trinity Avenue, Detroit, MI\n",
      "80100 Trinity Avenue, Detroit, MI  =>  'NoneType' object has no attribute 'address'\n",
      "None Trinity Avenue 80100\n",
      "91104 Klinger Street, Detroit, MI\n",
      "91104 Klinger Street, Detroit, MI  =>  'NoneType' object has no attribute 'address'\n",
      "None Klinger Street 91104\n",
      "61300 Vinewood Street, Detroit, MI\n",
      "61300 Vinewood Street, Detroit, MI  =>  'NoneType' object has no attribute 'address'\n",
      "None Vinewood Street 61300\n",
      "1700 Bradford Avenue, Detroit, MI\n",
      "1700 Bradford Avenue, Detroit, MI  =>  'NoneType' object has no attribute 'address'\n",
      "None Bradford Avenue 1700\n",
      "489 Robson Avenue, Detroit, MI\n",
      "489 Robson Avenue, Detroit, MI  =>  'NoneType' object has no attribute 'address'\n",
      "None Robson Avenue 489\n",
      "2700 Mansfield Avenue, Detroit, MI\n",
      "2700 Mansfield Avenue, Detroit, MI  =>  'NoneType' object has no attribute 'address'\n",
      "None Mansfield Avenue 2700\n",
      "1900 Chapel Avenue, Detroit, MI\n",
      "1900 Chapel Avenue, Detroit, MI  =>  'NoneType' object has no attribute 'address'\n",
      "None Chapel Avenue 1900\n",
      "20121 Selden Avenue, Detroit, MI\n",
      "20121 Selden Avenue, Detroit, MI  =>  'NoneType' object has no attribute 'address'\n",
      "None Selden Avenue 20121\n",
      "8620 Atkinson Avenue, Detroit, MI\n",
      "8620 Atkinson Avenue, Detroit, MI  =>  'NoneType' object has no attribute 'address'\n",
      "None Atkinson Avenue 8620\n"
     ]
    }
   ],
   "source": [
    "from ZipFinder import *\n",
    "import sqlite3\n",
    "\n",
    "queryget = \"select Id, StreetName,StreetNumber from NewData where ZipCode is null order by random();\"\n",
    "query = \"update NewData set ZipCode={} where Id={}\"\n",
    "\n",
    "con = sqlite3.connect(\"./data/location.s3db\")\n",
    "cur = con.cursor()\n",
    "cur.execute(queryget)\n",
    "sfg = NominatimZipFinder()\n",
    "\n",
    "for Id, street, number in cur.fetchall()[:]:\n",
    "    rawname = BuildAdress(street, number)\n",
    "    print(rawname)\n",
    "    zipcode = sfg.getzip(rawname)\n",
    "    print(zipcode, street, number)\n",
    "    if zipcode is not None:\n",
    "        cur.execute(query.format(zipcode,Id))\n",
    "        con.commit()\n",
    "con.close()\n",
    "\n",
    "\n"
   ]
  },
  {
   "cell_type": "code",
   "execution_count": null,
   "metadata": {
    "collapsed": true
   },
   "outputs": [],
   "source": []
  }
 ],
 "metadata": {
  "kernelspec": {
   "display_name": "Python 3",
   "language": "python",
   "name": "python3"
  },
  "language_info": {
   "codemirror_mode": {
    "name": "ipython",
    "version": 3
   },
   "file_extension": ".py",
   "mimetype": "text/x-python",
   "name": "python",
   "nbconvert_exporter": "python",
   "pygments_lexer": "ipython3",
   "version": "3.5.1"
  }
 },
 "nbformat": 4,
 "nbformat_minor": 0
}
