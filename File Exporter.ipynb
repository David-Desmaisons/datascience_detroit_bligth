{
 "cells": [
  {
   "cell_type": "code",
   "execution_count": 5,
   "metadata": {
    "collapsed": false
   },
   "outputs": [],
   "source": [
    "import sqlite3\n",
    "\n",
    "count =0\n",
    "ligncount = 0\n",
    "\n",
    "\n",
    "def writeline(file, row):\n",
    "    file.write(str(row[0])+',')\n",
    "    file.write(str(ligncount)+',')\n",
    "    file.write(display(row[7])+' '+display(row[1])+',')\n",
    "    file.write(str(row[2])+',')\n",
    "    file.write(str(row[3])+',')\n",
    "    file.write(str(row[4])+',')\n",
    "    file.write(str(row[5])+',')\n",
    "    file.write(str(row[6])+'\\n')   \n",
    "    \n",
    "\n",
    "def Create_New_File(filename):\n",
    "    global count\n",
    "    count+=1\n",
    "    print(count)\n",
    "    file  = open(filename,'w')\n",
    "    file.write('Id, rank, address, geohash, OriginId,Latitude,Longitude,CloseLocationNumber\\n')\n",
    "    return file\n",
    "\n",
    "def display(t):\n",
    "    return '' if t==None else str(t)\n",
    "\n",
    "#def CreateFile(count):\n",
    "#    Create_New_File('./data/locations_rich_sub{0}.csv'.format(count))\n",
    "    "
   ]
  },
  {
   "cell_type": "code",
   "execution_count": 6,
   "metadata": {
    "collapsed": false
   },
   "outputs": [],
   "source": [
    "def ExportQuery(query, FileName):\n",
    "    def GetName(name):\n",
    "        return name + str(localcount) + '.csv'\n",
    "    ligncount = 0\n",
    "    localcount=0\n",
    "    con = sqlite3.connect('./data/location.s3db')\n",
    "    cur = con.cursor()\n",
    "    file  = Create_New_File(GetName(FileName))\n",
    "    for row in cur.execute(query):\n",
    "        writeline(file, row)\n",
    "        ligncount +=1\n",
    "        if ligncount== 2000:\n",
    "            ligncount = 0\n",
    "            file.close()\n",
    "            localcount+=1\n",
    "            file = Create_New_File(GetName(FileName))  \n",
    "    con.close()\n",
    "    file.close()"
   ]
  },
  {
   "cell_type": "code",
   "execution_count": 13,
   "metadata": {
    "collapsed": false
   },
   "outputs": [
    {
     "name": "stdout",
     "output_type": "stream",
     "text": [
      "5\n"
     ]
    }
   ],
   "source": [
    "#query=\"select Id, StreetName, GeoHash, OriginId,Latitude,Longitude,CloseLocationNumber, StreetNumber from LocationReferenced where ;\"\n",
    "query=\"select Id, StreetName, GeoHash, OriginId,Latitude,Longitude,CloseLocationNumber, StreetNumber from LocationReferenced where StreetNumber=0 and StreetName='Rutland Avenue'\";\n",
    "ExportQuery(query, './data/Ru_Drive')"
   ]
  },
  {
   "cell_type": "code",
   "execution_count": 10,
   "metadata": {
    "collapsed": false
   },
   "outputs": [
    {
     "data": {
      "text/plain": [
       "(0.000538992297201446, 0.0007290980402387959)"
      ]
     },
     "execution_count": 10,
     "metadata": {},
     "output_type": "execute_result"
    }
   ],
   "source": [
    "from geolocation import GeoLocation\n",
    "from geopy.distance import great_circle\n",
    "import geohash\n",
    "import sqlite3\n",
    "\n",
    "def GeoEncodeFromLocation(loc):\n",
    "    return geohash.encode(loc.deg_lat, loc.deg_lon, 32)\n",
    "\n",
    "def GetBoundingGeoCode(lat, long, dist=0.01):\n",
    "    loc = GeoLocation.from_degrees(lat,long)\n",
    "    SW_loc, NE_loc = loc.bounding_locations(dist)\n",
    "    return (NE_loc.deg_lat - SW_loc.deg_lat,  NE_loc.deg_lon -SW_loc.deg_lon)\n",
    "\n",
    "\n",
    "GetBoundingGeoCode(42.331667, -83.0475, 0.03)\n"
   ]
  },
  {
   "cell_type": "code",
   "execution_count": 22,
   "metadata": {
    "collapsed": false
   },
   "outputs": [
    {
     "name": "stdout",
     "output_type": "stream",
     "text": [
      "3\n"
     ]
    }
   ],
   "source": [
    "ExportQuery(\"select Id, StreetName, GeoHash, OriginId,Latitude,Longitude,CloseLocationNumber, StreetNumber from Locationreferenced where StreetName='Woodingham Drive';\",'./data/Woodingham_Drive')"
   ]
  },
  {
   "cell_type": "code",
   "execution_count": 20,
   "metadata": {
    "collapsed": false
   },
   "outputs": [
    {
     "name": "stdout",
     "output_type": "stream",
     "text": [
      "Coefficients: \n",
      " [[-0.54058355]]\n"
     ]
    }
   ],
   "source": [
    "import matplotlib.pyplot as plt\n",
    "import numpy as np\n",
    "from sklearn import datasets, linear_model\n",
    "con = sqlite3.connect('./data/location.s3db')\n",
    "cur = con.cursor()\n",
    "Lats =[]\n",
    "Longs = []\n",
    "for row in cur.execute(\"select Latitude,Longitude from Locationreferenced where StreetName='Woodingham Drive' and Geohash!='' and Geohash!='s0000000000000000000000000000000';\"):\n",
    "    Lat, Long = row\n",
    "    Lats.append(Lat)\n",
    "    Longs.append(Long)\n",
    "\n",
    "arraylats = np.asarray(Lats)    \n",
    "#s = np.shape(arraylats)\n",
    "#arraylats.reshape(s[0],1)\n",
    "arraylats = arraylats.reshape(len(arraylats),1)\n",
    "\n",
    "arraylongs = np.asarray(Longs)    \n",
    "#s = np.shape(arraylongs)\n",
    "arraylongs = arraylongs.reshape(len(arraylongs),1)\n",
    "\n",
    "regr = linear_model.LinearRegression()\n",
    "\n",
    "# Train the model using the training sets\n",
    "regr.fit(arraylats,arraylongs)\n",
    "\n",
    "# The coefficients\n",
    "print('Coefficients: \\n', regr.coef_)\n",
    "   \n",
    "    \n",
    "    "
   ]
  },
  {
   "cell_type": "code",
   "execution_count": 48,
   "metadata": {
    "collapsed": false
   },
   "outputs": [
    {
     "ename": "TypeError",
     "evalue": "'LinearRegression' object is not iterable",
     "output_type": "error",
     "traceback": [
      "\u001b[1;31m---------------------------------------------------------------------------\u001b[0m",
      "\u001b[1;31mTypeError\u001b[0m                                 Traceback (most recent call last)",
      "\u001b[1;32m<ipython-input-48-ca356dfe940b>\u001b[0m in \u001b[0;36m<module>\u001b[1;34m()\u001b[0m\n\u001b[1;32m----> 1\u001b[1;33m \u001b[0mdict\u001b[0m\u001b[1;33m(\u001b[0m\u001b[0mregr\u001b[0m\u001b[1;33m)\u001b[0m\u001b[1;33m\u001b[0m\u001b[0m\n\u001b[0m",
      "\u001b[1;31mTypeError\u001b[0m: 'LinearRegression' object is not iterable"
     ]
    }
   ],
   "source": [
    "dict(regr)"
   ]
  },
  {
   "cell_type": "code",
   "execution_count": 49,
   "metadata": {
    "collapsed": false
   },
   "outputs": [
    {
     "name": "stdout",
     "output_type": "stream",
     "text": [
      "Variance score: 1.00\n"
     ]
    }
   ],
   "source": [
    "print('Variance score: %.2f' % regr.score(arraylats, arraylongs))"
   ]
  },
  {
   "cell_type": "code",
   "execution_count": 23,
   "metadata": {
    "collapsed": false
   },
   "outputs": [
    {
     "data": {
      "text/plain": [
       "[<matplotlib.lines.Line2D at 0x144e788f978>]"
      ]
     },
     "execution_count": 23,
     "metadata": {},
     "output_type": "execute_result"
    },
    {
     "data": {
      "image/png": "[encoded data removed]",
      "text/plain": [
       "<matplotlib.figure.Figure at 0x144e7853dd8>"
      ]
     },
     "metadata": {},
     "output_type": "display_data"
    }
   ],
   "source": [
    "%matplotlib inline\n",
    "plt.scatter(arraylats, arraylongs,  color='black')\n",
    "plt.plot(arraylats, regr.predict(arraylats), color='blue', linewidth=3)\n"
   ]
  },
  {
   "cell_type": "code",
   "execution_count": null,
   "metadata": {
    "collapsed": true
   },
   "outputs": [],
   "source": []
  }
 ],
 "metadata": {
  "kernelspec": {
   "display_name": "Python 3",
   "language": "python",
   "name": "python3"
  },
  "language_info": {
   "codemirror_mode": {
    "name": "ipython",
    "version": 3
   },
   "file_extension": ".py",
   "mimetype": "text/x-python",
   "name": "python",
   "nbconvert_exporter": "python",
   "pygments_lexer": "ipython3",
   "version": "3.5.1"
  }
 },
 "nbformat": 4,
 "nbformat_minor": 0
}
