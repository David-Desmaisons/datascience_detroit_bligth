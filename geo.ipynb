{
 "cells": [
  {
   "cell_type": "code",
   "execution_count": null,
   "metadata": {
    "collapsed": false
   },
   "outputs": [],
   "source": [
    "import geohash\n",
    "import sqlite3\n",
    "geohash.encode(51.566141,-0.009434,24)"
   ]
  },
  {
   "cell_type": "code",
   "execution_count": null,
   "metadata": {
    "collapsed": false
   },
   "outputs": [],
   "source": [
    "count =0\n",
    "\n",
    "\n",
    "def Geocode(lat,long):\n",
    "    try:\n",
    "        return geohash.encode(lat,long,32)\n",
    "    except:\n",
    "        return ''\n",
    "\n",
    "\n",
    "con = sqlite3.connect('./data/location.s3db')\n",
    "con.create_function(\"Geocode\", 2, Geocode)\n",
    "cur = con.cursor()\n",
    "cur.execute(\"update LocationReferenced set geohash = Geocode(Latitude,Longitude)\")\n",
    "con.commit();\n",
    "con.close()\n",
    "\n"
   ]
  },
  {
   "cell_type": "code",
   "execution_count": null,
   "metadata": {
    "collapsed": false
   },
   "outputs": [],
   "source": [
    "count =0\n",
    "\n",
    "\n",
    "def ComputeGeoString(lat,long):\n",
    "    try:\n",
    "        global count\n",
    "        count+=1\n",
    "        if count%100000==1:\n",
    "            print('.')  \n",
    "        return \"({0},{1})\".format(lat,long)\n",
    "    except:\n",
    "        return ''\n",
    "\n",
    "\n",
    "con = sqlite3.connect('./data/location.s3db')\n",
    "con.create_function(\"ComputeGeoString\", 2, ComputeGeoString)\n",
    "cur = con.cursor()\n",
    "cur.execute(\"update LocationReferenced set Location = ComputeGeoString(Latitude,Longitude)\")\n",
    "con.commit();\n",
    "con.close()"
   ]
  },
  {
   "cell_type": "code",
   "execution_count": null,
   "metadata": {
    "collapsed": false
   },
   "outputs": [],
   "source": [
    "query=\"select Id, Location from LocationReferenced where not GeoHash ='' order by GeoHash ;\"\n",
    "con = sqlite3.connect('./data/location.s3db')\n",
    "cur = con.cursor()\n",
    "file  = open('./data/locations.txt','w')\n",
    "for row in cur.execute(query):\n",
    "    file.write(row[1]+'\\n')\n",
    "con.close()\n",
    "file.close()\n",
    "\n",
    "\n"
   ]
  },
  {
   "cell_type": "code",
   "execution_count": null,
   "metadata": {
    "collapsed": true
   },
   "outputs": [],
   "source": [
    "query=\"select Id, Location from LocationReferenced where not GeoHash ='' order by GeoHash ;\"\n",
    "con = sqlite3.connect('./data/location.s3db')\n",
    "cur = con.cursor()\n",
    "file  = open('./data/locations_2.txt','w')\n",
    "for row in cur.execute(query):\n",
    "    file.write(row[1][1:-1]+'\\n')\n",
    "con.close()\n",
    "file.close()"
   ]
  },
  {
   "cell_type": "code",
   "execution_count": null,
   "metadata": {
    "collapsed": false
   },
   "outputs": [],
   "source": [
    "count =0\n",
    "ligncount = 1\n",
    "\n",
    "def Create_New_File():\n",
    "    global count\n",
    "    count+=1\n",
    "    print(count)\n",
    "    file  = open('./data/locations_sub{0}.csv'.format(count),'w')\n",
    "    file.write('Id, rank, OriginId,Latitude,Longitude\\n')\n",
    "    return file\n",
    "\n",
    "\n",
    "query=\"select Id, OriginId,Latitude,Longitude from LocationReferenced where not GeoHash ='' order by GeoHash ;\"\n",
    "con = sqlite3.connect('./data/location.s3db')\n",
    "cur = con.cursor()\n",
    "file  = Create_New_File()\n",
    "for row in cur.execute(query):\n",
    "    file.write(str(row[0])+',')\n",
    "    file.write(str(ligncount)+',')\n",
    "    file.write(row[1]+',')\n",
    "    file.write(str(row[2])+',')\n",
    "    file.write(str(row[3])+'\\n')\n",
    "    ligncount +=1\n",
    "    if ligncount== 2000:\n",
    "        ligncount = 0\n",
    "        file.close()\n",
    "        file = Create_New_File()\n",
    "    \n",
    "con.close()\n",
    "file.close()\n",
    "    "
   ]
  },
  {
   "cell_type": "code",
   "execution_count": null,
   "metadata": {
    "collapsed": false
   },
   "outputs": [],
   "source": [
    "geohash.encode(42.3357,-83.2278,32)\n"
   ]
  },
  {
   "cell_type": "code",
   "execution_count": null,
   "metadata": {
    "collapsed": false
   },
   "outputs": [],
   "source": [
    "import geolocation"
   ]
  },
  {
   "cell_type": "code",
   "execution_count": null,
   "metadata": {
    "collapsed": false
   },
   "outputs": [],
   "source": [
    "from geolocation import GeoLocation\n",
    "from geopy.distance import great_circle\n",
    "import geohash\n",
    "import sqlite3\n",
    "\n",
    "def GeoEncodeFromLocation(loc):\n",
    "    return geohash.encode(loc.deg_lat, loc.deg_lon, 32)\n",
    "\n",
    "def GetBoundingGeoCode(lat, long, dist=0.01):\n",
    "    loc = GeoLocation.from_degrees(lat,long)\n",
    "    SW_loc, NE_loc = loc.bounding_locations(dist)\n",
    "    return sorted((GeoEncodeFromLocation(SW_loc), GeoEncodeFromLocation(NE_loc)))\n",
    "    \n",
    "print(geohash.encode(42.3357,-83.2278,32))    \n",
    "GetBoundingGeoCode(42.3357,-83.2278, 0.02)"
   ]
  },
  {
   "cell_type": "code",
   "execution_count": null,
   "metadata": {
    "collapsed": false
   },
   "outputs": [],
   "source": [
    "from geolocation import GeoLocation\n",
    "from geopy.distance import great_circle\n",
    "import geohash\n",
    "import sqlite3\n",
    "\n",
    "initialQuery =\"select Id, Latitude, Longitude from (select min(Id)as Id, Latitude, Longitude, count(CloseLocationNumber) as counted from LocationReferenced group by Latitude, Longitude order by Id) where counted==0;\"\n",
    "query = \"select Id, Latitude, Longitude from LocationReferenced where (GeoHash>='{0}') and(GeoHash<='{1}') and not (Id={2})\"\n",
    "query2 = \"select Id, Distance({0}, {1}, Latitude, Longitude) as distance from (select Id, Latitude, Longitude from LocationReferenced where (GeoHash>='{2}') and(GeoHash<='{3}') and not (Id={4})) where distance<={5} Order by distance;\"\n",
    "update = \"UPDATE LocationReferenced SET CloseLocationNumber={0}, ClosestLocation={1} WHERE ID = {2};\"\n",
    "updateNull = \"UPDATE LocationReferenced SET CloseLocationNumber=0 WHERE ID = {0};\"\n",
    "\n",
    "def GeoEncodeFromLocation(loc):\n",
    "    return geohash.encode(loc.deg_lat, loc.deg_lon, 32)\n",
    "\n",
    "def GetBoundingGeoCode(lat, long, dist=0.01):\n",
    "    try:\n",
    "        loc = GeoLocation.from_degrees(lat,long)\n",
    "        SW_loc, NE_loc = loc.bounding_locations(dist)\n",
    "        return sorted((GeoEncodeFromLocation(SW_loc), GeoEncodeFromLocation(NE_loc)))\n",
    "    except Exception as Error:\n",
    "        print(Error)\n",
    "        return (None, None)\n",
    "    \n",
    "\n",
    "def Distance(lat1, long1, lat2, long2): \n",
    "    try:\n",
    "        loc1 = (lat1, long1)\n",
    "        loc2 = (lat2, long2)\n",
    "        return great_circle(loc1, loc2).kilometers\n",
    "    except Exception as Error:\n",
    "        print(Error)\n",
    "        print(lat1, long1, lat2, long2)\n",
    "        return 1000\n",
    "\n",
    "count=1 \n",
    "distance = 0.01\n",
    "\n",
    "con = sqlite3.connect('./data/location.s3db')\n",
    "con.create_function(\"Distance\", 4, Distance)\n",
    "cur = con.cursor()\n",
    "for row in cur.execute(initialQuery).fetchall():\n",
    "    Id, Latitude, Longitude = row\n",
    "    if count==1:\n",
    "        print(Id, Latitude, Longitude)\n",
    "    minhash, maxhash = GetBoundingGeoCode(Latitude, Longitude, distance)\n",
    "    if minhash is not None:\n",
    "        ClosePoints = cur.execute(query2.format( Latitude, Longitude, minhash, maxhash, Id, distance )).fetchall()\n",
    "    else:\n",
    "        ClosePoints =[]\n",
    "    PointsNumber = len(ClosePoints)\n",
    "    if not PointsNumber == 0:\n",
    "        cur.execute(update.format(PointsNumber, ClosePoints[0][0],Id))\n",
    "    else:\n",
    "        cur.execute(updateNull.format(Id))\n",
    "    con.commit()\n",
    "    count+=1\n",
    "    if count==2:\n",
    "        print('.')\n",
    "        print(Id)\n",
    "        print(PointsNumber)\n",
    "        if not PointsNumber == 0:\n",
    "            print(ClosePoints[0][0])\n",
    "    elif count == 100:\n",
    "        print('..')\n",
    "    elif count == 1000:\n",
    "        print(Id)\n",
    "        print('...')\n",
    "    elif count%4000==1:\n",
    "        print(Id)\n",
    "        print('....')\n",
    "con.close()"
   ]
  },
  {
   "cell_type": "code",
   "execution_count": 5,
   "metadata": {
    "collapsed": false
   },
   "outputs": [
    {
     "name": "stdout",
     "output_type": "stream",
     "text": [
      "1 42.36318237000006 -83.09167672099994\n",
      ".\n",
      "1\n",
      "..\n",
      "1971\n",
      "...\n",
      "7476\n",
      "....\n",
      "14230\n",
      "....\n",
      "23957\n",
      "....\n",
      "34242\n",
      "....\n",
      "44380\n",
      "....\n",
      "59332\n",
      "....\n",
      "76936\n",
      "....\n",
      "95604\n",
      "....\n",
      "116884\n",
      "....\n",
      "139562\n",
      "....\n",
      "164992\n",
      "....\n",
      "192206\n",
      "....\n",
      "227452\n",
      "....\n",
      "264699\n",
      "....\n",
      "301694\n",
      "....\n",
      "329056\n",
      "....\n",
      "345991\n",
      "....\n",
      "365920\n",
      "....\n",
      "389615\n",
      "....\n",
      "418046\n",
      "....\n",
      "450093\n",
      "....\n"
     ]
    }
   ],
   "source": [
    "from geolocation import GeoLocation\n",
    "from geopy.distance import great_circle\n",
    "import geohash\n",
    "import sqlite3\n",
    "\n",
    "initialQuery =\"select min(Id) as Id, min(Latitude), min(Longitude)  from LocationReferenced where CloseLocationNumber is not null and CloseLocationNumber>1 group by Geohash order by Id\"\n",
    "query2 = \"insert into SimilarBuilding (Building1, Building2) select {4},relativeId from( select Id as relativeId, Distance({0}, {1}, Latitude, Longitude) as distance from (select Id, Latitude, Longitude from LocationReferenced where (GeoHash>='{2}') and(GeoHash<='{3}') and not (Id={4})) where distance<={5});\"\n",
    "\n",
    "\n",
    "def GeoEncodeFromLocation(loc):\n",
    "    return geohash.encode(loc.deg_lat, loc.deg_lon, 32)\n",
    "\n",
    "def GetBoundingGeoCode(lat, long, dist=0.01):\n",
    "    try:\n",
    "        loc = GeoLocation.from_degrees(lat,long)\n",
    "        SW_loc, NE_loc = loc.bounding_locations(dist)\n",
    "        return sorted((GeoEncodeFromLocation(SW_loc), GeoEncodeFromLocation(NE_loc)))\n",
    "    except Exception as Error:\n",
    "        print(Error)\n",
    "        return (None, None)\n",
    "    \n",
    "\n",
    "def Distance(lat1, long1, lat2, long2): \n",
    "    try:\n",
    "        loc1 = (lat1, long1)\n",
    "        loc2 = (lat2, long2)\n",
    "        return great_circle(loc1, loc2).kilometers\n",
    "    except Exception as Error:\n",
    "        print(Error)\n",
    "        print(lat1, long1, lat2, long2)\n",
    "        return 1000\n",
    "\n",
    "count=1 \n",
    "distance = 0.01\n",
    "\n",
    "con = sqlite3.connect('./data/location.s3db')\n",
    "con.create_function(\"Distance\", 4, Distance)\n",
    "cur = con.cursor()\n",
    "for row in cur.execute(initialQuery).fetchall():\n",
    "    Id, Latitude, Longitude = row\n",
    "    if count==1:\n",
    "        print(Id, Latitude, Longitude)\n",
    "    minhash, maxhash = GetBoundingGeoCode(Latitude, Longitude, distance)\n",
    "    if minhash is not None:\n",
    "        try:\n",
    "            ClosePoints = cur.execute(query2.format( Latitude, Longitude, minhash, maxhash, Id, distance ))\n",
    "            con.commit()\n",
    "        except Exception as Error:\n",
    "            print(Error)\n",
    "            print(query2.format( Latitude, Longitude, minhash, maxhash, Id, distance ))\n",
    "    count+=1\n",
    "    if count==2:\n",
    "        print('.')\n",
    "        print(Id)\n",
    "    elif count == 100:\n",
    "        print('..')\n",
    "    elif count == 1000:\n",
    "        print(Id)\n",
    "        print('...')\n",
    "    elif count%4000==1:\n",
    "        print(Id)\n",
    "        print('....')\n",
    "con.close()\n"
   ]
  },
  {
   "cell_type": "code",
   "execution_count": 6,
   "metadata": {
    "collapsed": false
   },
   "outputs": [
    {
     "data": {
      "text/plain": [
       "'3.8.11'"
      ]
     },
     "execution_count": 6,
     "metadata": {},
     "output_type": "execute_result"
    }
   ],
   "source": [
    "sqlite3.sqlite_version"
   ]
  },
  {
   "cell_type": "code",
   "execution_count": 41,
   "metadata": {
    "collapsed": false,
    "scrolled": true
   },
   "outputs": [
    {
     "name": "stdout",
     "output_type": "stream",
     "text": [
      "[]\n"
     ]
    }
   ],
   "source": [
    "query=\"WITH RECURSIVE CloseBuildings(building) AS (select 1 UNION SELECT Building2 FROM SimilarBuilding, CloseBuildings where SimilarBuilding.Building1 = CloseBuildings.building), data as (SELECT min(Latitude) as Latitude_Min, min(Longitude) as Longitude_Min,max(Latitude) as Latitude_Max, max(Longitude) as Longitude_Max, min(Geohash) as RefHash FROM LocationReferenced where Id in CloseBuildings) Update LocationReferenced SET Latitude_Max= (SELECT Latitude_Max from data), Latitude_Min= (SELECT Latitude_Min from data), Longitude_Max=(SELECT Longitude_Max from data), Longitude_Min=(SELECT Longitude_Min from data), RefHash =(SELECT RefHash from data) where Id in CloseBuildings;\"\n",
    "con = sqlite3.connect('./data/location.s3db')\n",
    "cur = con.cursor()\n",
    "print(cur.execute(query).fetchall())\n",
    "con.close()\n"
   ]
  },
  {
   "cell_type": "code",
   "execution_count": 8,
   "metadata": {
    "collapsed": false,
    "scrolled": false
   },
   "outputs": [
    {
     "name": "stdout",
     "output_type": "stream",
     "text": [
      "453606\n",
      ".\n",
      "453606\n",
      "..\n",
      "137984\n",
      "...\n",
      "420418\n",
      "....\n",
      "4743\n",
      "....\n",
      "209829\n",
      "....\n",
      "395238\n",
      "....\n",
      "240428\n",
      "....\n",
      "269744\n",
      "....\n",
      "325411\n",
      "....\n",
      "56109\n",
      "....\n",
      "320905\n",
      "....\n",
      "210596\n",
      "....\n",
      "429675\n",
      "....\n",
      "9347\n",
      "....\n",
      "349905\n",
      "....\n",
      "335203\n",
      "....\n",
      "336068\n",
      "....\n",
      "445512\n",
      "....\n",
      "335143\n",
      "....\n",
      "354457\n",
      "....\n"
     ]
    }
   ],
   "source": [
    "from geolocation import GeoLocation\n",
    "from geopy.distance import great_circle\n",
    "import geohash\n",
    "import sqlite3\n",
    "\n",
    "initialQuery =\"select min(Id) as bId from LocationReferenced where LocationReferenced.Latitude_Min is null and CloseLocationNumber is not null group by Geohash\"\n",
    "query=\"WITH RECURSIVE CloseBuildings(building) AS (select {0} UNION SELECT Building2 FROM SimilarBuilding, CloseBuildings where SimilarBuilding.Building1 = CloseBuildings.building), data as (SELECT min(Latitude) as Latitude_Min, min(Longitude) as Longitude_Min,max(Latitude) as Latitude_Max, max(Longitude) as Longitude_Max, min(Geohash) as RefHash FROM LocationReferenced where Id in CloseBuildings) Update LocationReferenced SET Latitude_Max= (SELECT Latitude_Max from data), Latitude_Min= (SELECT Latitude_Min from data), Longitude_Max=(SELECT Longitude_Max from data), Longitude_Min=(SELECT Longitude_Min from data), RefHash =(SELECT RefHash from data) where Id in CloseBuildings;\"\n",
    "\n",
    "count=1 \n",
    "con = sqlite3.connect('./data/location.s3db')\n",
    "cur = con.cursor()\n",
    "\n",
    "cont = True\n",
    "for row in cur.execute(initialQuery).fetchall():\n",
    "    Id = row[0]\n",
    "    if count==1:\n",
    "        print(Id)\n",
    "    cur.execute(query.format(Id))\n",
    "    count+=1\n",
    "    con.commit()        \n",
    "    if count==2:\n",
    "        print('.')\n",
    "        print(Id)\n",
    "    elif count == 100:\n",
    "        print('..')\n",
    "    elif count==1000:\n",
    "        print(Id)\n",
    "        print('...')\n",
    "    elif count%4000==1:\n",
    "        print(Id)\n",
    "        print('....')\n",
    "con.commit()   \n",
    "con.close()"
   ]
  },
  {
   "cell_type": "code",
   "execution_count": null,
   "metadata": {
    "collapsed": true
   },
   "outputs": [],
   "source": []
  }
 ],
 "metadata": {
  "kernelspec": {
   "display_name": "Python 3",
   "language": "python",
   "name": "python3"
  },
  "language_info": {
   "codemirror_mode": {
    "name": "ipython",
    "version": 3
   },
   "file_extension": ".py",
   "mimetype": "text/x-python",
   "name": "python",
   "nbconvert_exporter": "python",
   "pygments_lexer": "ipython3",
   "version": "3.5.1"
  }
 },
 "nbformat": 4,
 "nbformat_minor": 0
}
